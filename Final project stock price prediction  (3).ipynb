{
 "cells": [
  {
   "cell_type": "markdown",
   "metadata": {},
   "source": [
    "# Final Project - S&P500 Price index Prediction\n",
    "\n",
    "**Submitted by -**: Mahlet Melese"
   ]
  },
  {
   "cell_type": "markdown",
   "metadata": {},
   "source": [
    "## Introduction\n",
    "\n",
    "#### The project's domain background\n",
    "The finance sector is a fascinating field to explore the power of machine learning and its application is well researched and documented. This field is often associated with high monetary compensations which is attractive to many of us to try our hands on applying the knowledge of mathematical and statistical models, and to mine patterns in stock movements so that we can make predictions and have a competitive edge over other traders. Today, there are many trade brokers taking advantage of high-frequency financial data and electronic trading tools that are built on the foundations of machine learning. These high-frequency traders are often characterized by high speed, high turn-over rates and high order-to-trade ratios and are slowly replacing the traditional traders (Aldridge I., 2013). And indicators of buy and sell opportunities are often built on only information of historical price and volume, rather than traditional valuation of a company. Since my current knowledge does not allow myself to carry out meaningful analysis of a company’s value and subsequently perform valuation of its stock, it was found that this method of stock price prediction to be a highly suitable area to study. The data was collected from “Yahoo! Finance”. Datasets of historical data of S&Pstock index price from “Yahoo! Finance” typically has the following structure: Date, Open, High, Low, Close, AdjClose, Volume, Dividends and Stock Splits. However, upon inspection the volume feature was found to be loosely recorded which made this feature particularly unreliable and impractical for analysis. The S&P500 is a stock market index that measures the stock performance of 500 large companies listed on stock exchange in the United States. I will Create Machine learning model to predict tomorrow's S&P500 price index given historical data and back tested this model on twenty plus years of historical data. So, we can really be confident in the prediction that it is making. I have sourced data from 1927 to present which would provide this project a large enough timeframe for meaningful analysis to take place.\n",
    "\n",
    "\n",
    "#### Data Sources:\n",
    "\n",
    "The first step is importing the yfinance package, this package calls the yfinance API to download daily stocks index price. Second, we need to initialize the ticker class which enable us to download price history for a single symbol, in this project I will use the 'GSPC' symbol which is the S&P500 index. Then ,we will use history method and we pass in period equals maximum which query data from the very beginning when the index was created and then give us pandas data frame. In this data frame each row is the price on a single trading day so, non-trading days are not included. The data frame columns indicate the opening price when the market opened, the highest price during the day, the lowest price during the day, the close price when the exchange closed, and the total volume traded that day. Essentially, we are going to use these columns to predict if the stock price will go up or down tomorrow. I also have additional columns called Dividends and Stock Splits ; I am not going to use these columns because these columns are more appropriate for individual stocks not for an index price.\n",
    "\n",
    "#### Methodology \n",
    "\n",
    "The workflow of the project goes as follows: I will edit this\n",
    "\n",
    "Extract and Clean the data from Yahoo Finance Feature Engineering Train with Classification Algorithms Train with Optimized Classification Algorithms with GridSearch using TimeSeriesSplit for cross validation Train with XGBoost Classifier and Optimize with GridSearch using TimeSeriesSplit for cross validation Train with LightGBM Classifier and Optimize with GridSearch using TimeSeriesSplit for cross validation"
   ]
  },
  {
   "cell_type": "markdown",
   "metadata": {},
   "source": [
    "## Data Preparation & Exploratory Data Analysis (EDA):"
   ]
  },
  {
   "cell_type": "markdown",
   "metadata": {},
   "source": [
    "### Import Libraries"
   ]
  },
  {
   "cell_type": "code",
   "execution_count": 20,
   "metadata": {},
   "outputs": [],
   "source": [
    "#Import Dependencies\n",
    "import yfinance as yf\n",
    "import pandas as pd\n",
    "import numpy as np\n",
    "\n",
    "from sklearn.ensemble import RandomForestClassifier\n",
    "from sklearn.tree import DecisionTreeClassifier\n",
    "from sklearn.svm import SVC\n",
    "from sklearn.metrics import precision_score\n",
    "from sklearn.preprocessing import MinMaxScaler\n",
    "\n",
    "\n",
    "from sklearn.model_selection import train_test_split, cross_val_score\n",
    "from sklearn import neighbors, preprocessing, metrics\n",
    "from sklearn.preprocessing import StandardScaler\n",
    "from sklearn.metrics import confusion_matrix,accuracy_score, f1_score, classification_report, precision_score\n",
    "import xgboost as xgb\n",
    "from sklearn.neural_network import MLPClassifier\n",
    "from sklearn.model_selection import GridSearchCV\n",
    "\n",
    "import matplotlib.pyplot as plt\n",
    "%matplotlib inline\n",
    "import seaborn as sns\n",
    "import os\n",
    "import tarfile\n",
    "\n",
    "from pptx import Presentation \n",
    "from pptx.util import Inches\n",
    "from pptx.util import Pt\n",
    "import pptx\n",
    "from pptx.enum.text import PP_ALIGN\n",
    "from io import StringIO\n",
    "\n",
    "#This ingores depreciation warnings, which will make the code more readable\n",
    "import warnings \n",
    "warnings.filterwarnings(\"ignore\", category=FutureWarning)"
   ]
  },
  {
   "cell_type": "markdown",
   "metadata": {},
   "source": [
    "#### Part 1.Downloading S&P500 price dataset"
   ]
  },
  {
   "cell_type": "code",
   "execution_count": 2,
   "metadata": {},
   "outputs": [
    {
     "data": {
      "text/html": [
       "<div>\n",
       "<style scoped>\n",
       "    .dataframe tbody tr th:only-of-type {\n",
       "        vertical-align: middle;\n",
       "    }\n",
       "\n",
       "    .dataframe tbody tr th {\n",
       "        vertical-align: top;\n",
       "    }\n",
       "\n",
       "    .dataframe thead th {\n",
       "        text-align: right;\n",
       "    }\n",
       "</style>\n",
       "<table border=\"1\" class=\"dataframe\">\n",
       "  <thead>\n",
       "    <tr style=\"text-align: right;\">\n",
       "      <th></th>\n",
       "      <th>Open</th>\n",
       "      <th>High</th>\n",
       "      <th>Low</th>\n",
       "      <th>Close</th>\n",
       "      <th>Volume</th>\n",
       "      <th>Dividends</th>\n",
       "      <th>Stock Splits</th>\n",
       "    </tr>\n",
       "    <tr>\n",
       "      <th>Date</th>\n",
       "      <th></th>\n",
       "      <th></th>\n",
       "      <th></th>\n",
       "      <th></th>\n",
       "      <th></th>\n",
       "      <th></th>\n",
       "      <th></th>\n",
       "    </tr>\n",
       "  </thead>\n",
       "  <tbody>\n",
       "    <tr>\n",
       "      <th>1927-12-30 00:00:00-05:00</th>\n",
       "      <td>17.660000</td>\n",
       "      <td>17.660000</td>\n",
       "      <td>17.660000</td>\n",
       "      <td>17.660000</td>\n",
       "      <td>0</td>\n",
       "      <td>0.0</td>\n",
       "      <td>0.0</td>\n",
       "    </tr>\n",
       "    <tr>\n",
       "      <th>1928-01-03 00:00:00-05:00</th>\n",
       "      <td>17.760000</td>\n",
       "      <td>17.760000</td>\n",
       "      <td>17.760000</td>\n",
       "      <td>17.760000</td>\n",
       "      <td>0</td>\n",
       "      <td>0.0</td>\n",
       "      <td>0.0</td>\n",
       "    </tr>\n",
       "    <tr>\n",
       "      <th>1928-01-04 00:00:00-05:00</th>\n",
       "      <td>17.719999</td>\n",
       "      <td>17.719999</td>\n",
       "      <td>17.719999</td>\n",
       "      <td>17.719999</td>\n",
       "      <td>0</td>\n",
       "      <td>0.0</td>\n",
       "      <td>0.0</td>\n",
       "    </tr>\n",
       "    <tr>\n",
       "      <th>1928-01-05 00:00:00-05:00</th>\n",
       "      <td>17.549999</td>\n",
       "      <td>17.549999</td>\n",
       "      <td>17.549999</td>\n",
       "      <td>17.549999</td>\n",
       "      <td>0</td>\n",
       "      <td>0.0</td>\n",
       "      <td>0.0</td>\n",
       "    </tr>\n",
       "    <tr>\n",
       "      <th>1928-01-06 00:00:00-05:00</th>\n",
       "      <td>17.660000</td>\n",
       "      <td>17.660000</td>\n",
       "      <td>17.660000</td>\n",
       "      <td>17.660000</td>\n",
       "      <td>0</td>\n",
       "      <td>0.0</td>\n",
       "      <td>0.0</td>\n",
       "    </tr>\n",
       "    <tr>\n",
       "      <th>1928-01-09 00:00:00-05:00</th>\n",
       "      <td>17.500000</td>\n",
       "      <td>17.500000</td>\n",
       "      <td>17.500000</td>\n",
       "      <td>17.500000</td>\n",
       "      <td>0</td>\n",
       "      <td>0.0</td>\n",
       "      <td>0.0</td>\n",
       "    </tr>\n",
       "    <tr>\n",
       "      <th>1928-01-10 00:00:00-05:00</th>\n",
       "      <td>17.370001</td>\n",
       "      <td>17.370001</td>\n",
       "      <td>17.370001</td>\n",
       "      <td>17.370001</td>\n",
       "      <td>0</td>\n",
       "      <td>0.0</td>\n",
       "      <td>0.0</td>\n",
       "    </tr>\n",
       "    <tr>\n",
       "      <th>1928-01-11 00:00:00-05:00</th>\n",
       "      <td>17.350000</td>\n",
       "      <td>17.350000</td>\n",
       "      <td>17.350000</td>\n",
       "      <td>17.350000</td>\n",
       "      <td>0</td>\n",
       "      <td>0.0</td>\n",
       "      <td>0.0</td>\n",
       "    </tr>\n",
       "    <tr>\n",
       "      <th>1928-01-12 00:00:00-05:00</th>\n",
       "      <td>17.469999</td>\n",
       "      <td>17.469999</td>\n",
       "      <td>17.469999</td>\n",
       "      <td>17.469999</td>\n",
       "      <td>0</td>\n",
       "      <td>0.0</td>\n",
       "      <td>0.0</td>\n",
       "    </tr>\n",
       "    <tr>\n",
       "      <th>1928-01-13 00:00:00-05:00</th>\n",
       "      <td>17.580000</td>\n",
       "      <td>17.580000</td>\n",
       "      <td>17.580000</td>\n",
       "      <td>17.580000</td>\n",
       "      <td>0</td>\n",
       "      <td>0.0</td>\n",
       "      <td>0.0</td>\n",
       "    </tr>\n",
       "  </tbody>\n",
       "</table>\n",
       "</div>"
      ],
      "text/plain": [
       "                                Open       High        Low      Close  Volume  \\\n",
       "Date                                                                            \n",
       "1927-12-30 00:00:00-05:00  17.660000  17.660000  17.660000  17.660000       0   \n",
       "1928-01-03 00:00:00-05:00  17.760000  17.760000  17.760000  17.760000       0   \n",
       "1928-01-04 00:00:00-05:00  17.719999  17.719999  17.719999  17.719999       0   \n",
       "1928-01-05 00:00:00-05:00  17.549999  17.549999  17.549999  17.549999       0   \n",
       "1928-01-06 00:00:00-05:00  17.660000  17.660000  17.660000  17.660000       0   \n",
       "1928-01-09 00:00:00-05:00  17.500000  17.500000  17.500000  17.500000       0   \n",
       "1928-01-10 00:00:00-05:00  17.370001  17.370001  17.370001  17.370001       0   \n",
       "1928-01-11 00:00:00-05:00  17.350000  17.350000  17.350000  17.350000       0   \n",
       "1928-01-12 00:00:00-05:00  17.469999  17.469999  17.469999  17.469999       0   \n",
       "1928-01-13 00:00:00-05:00  17.580000  17.580000  17.580000  17.580000       0   \n",
       "\n",
       "                           Dividends  Stock Splits  \n",
       "Date                                                \n",
       "1927-12-30 00:00:00-05:00        0.0           0.0  \n",
       "1928-01-03 00:00:00-05:00        0.0           0.0  \n",
       "1928-01-04 00:00:00-05:00        0.0           0.0  \n",
       "1928-01-05 00:00:00-05:00        0.0           0.0  \n",
       "1928-01-06 00:00:00-05:00        0.0           0.0  \n",
       "1928-01-09 00:00:00-05:00        0.0           0.0  \n",
       "1928-01-10 00:00:00-05:00        0.0           0.0  \n",
       "1928-01-11 00:00:00-05:00        0.0           0.0  \n",
       "1928-01-12 00:00:00-05:00        0.0           0.0  \n",
       "1928-01-13 00:00:00-05:00        0.0           0.0  "
      ]
     },
     "execution_count": 2,
     "metadata": {},
     "output_type": "execute_result"
    }
   ],
   "source": [
    "# Fetch historical data for S&P500 from Yahoo Finance\n",
    "sp500=yf.Ticker(\"^GSPC\")\n",
    "sp500= sp500.history(period=\"max\")\n",
    "\n",
    "#fig.savefig('u7.png') # saving image so we can use in ppt\n",
    "\n",
    "# Display the Dataset \n",
    "sp500.head(10)\n",
    "\n",
    "\n",
    "\n"
   ]
  },
  {
   "cell_type": "markdown",
   "metadata": {},
   "source": [
    "This is the first 10 rows of the dataset using the head method.Here, we can have a first look at the features and some of the values that each one takes."
   ]
  },
  {
   "cell_type": "markdown",
   "metadata": {},
   "source": [
    "#### Description for 7 Attribute \n",
    "| Columns| Description |\n",
    "|:------:|-|\n",
    "| INDEX |  Unique ID | \n",
    "| Date | The date of the record | \n",
    "| Open | The opening price of the day (when trading starts| \n",
    "|High| The highest trade price during the day|\n",
    "|Low| The lowest trade price during the day|\n",
    "|Close|The closing price for the day (when trading is finished)|\n",
    "|Volume| The number of shares traded|"
   ]
  },
  {
   "cell_type": "markdown",
   "metadata": {},
   "source": [
    " **Check the dataset shape**\n",
    "\n",
    "Knowing the amount of data we have is very important, because the quality of our analysis is depend on that."
   ]
  },
  {
   "cell_type": "code",
   "execution_count": 3,
   "metadata": {},
   "outputs": [
    {
     "data": {
      "text/plain": [
       "(24013, 7)"
      ]
     },
     "execution_count": 3,
     "metadata": {},
     "output_type": "execute_result"
    }
   ],
   "source": [
    "# check the result\n",
    "sp500.shape"
   ]
  },
  {
   "cell_type": "markdown",
   "metadata": {},
   "source": [
    "#### Check the datetime index\n",
    "\n",
    "The index column enable us to index and slice the dataframe easly."
   ]
  },
  {
   "cell_type": "code",
   "execution_count": 4,
   "metadata": {},
   "outputs": [
    {
     "data": {
      "text/plain": [
       "DatetimeIndex(['1927-12-30 00:00:00-05:00', '1928-01-03 00:00:00-05:00',\n",
       "               '1928-01-04 00:00:00-05:00', '1928-01-05 00:00:00-05:00',\n",
       "               '1928-01-06 00:00:00-05:00', '1928-01-09 00:00:00-05:00',\n",
       "               '1928-01-10 00:00:00-05:00', '1928-01-11 00:00:00-05:00',\n",
       "               '1928-01-12 00:00:00-05:00', '1928-01-13 00:00:00-05:00',\n",
       "               ...\n",
       "               '2023-07-24 00:00:00-04:00', '2023-07-25 00:00:00-04:00',\n",
       "               '2023-07-26 00:00:00-04:00', '2023-07-27 00:00:00-04:00',\n",
       "               '2023-07-28 00:00:00-04:00', '2023-07-31 00:00:00-04:00',\n",
       "               '2023-08-01 00:00:00-04:00', '2023-08-02 00:00:00-04:00',\n",
       "               '2023-08-03 00:00:00-04:00', '2023-08-04 00:00:00-04:00'],\n",
       "              dtype='datetime64[ns, America/New_York]', name='Date', length=24013, freq=None)"
      ]
     },
     "execution_count": 4,
     "metadata": {},
     "output_type": "execute_result"
    }
   ],
   "source": [
    "# check the s&p500 index\n",
    "sp500.index"
   ]
  },
  {
   "cell_type": "markdown",
   "metadata": {},
   "source": [
    " **Check data type of all columns**\n",
    "\n",
    "Pandas.info method helps us to display the data types of all columns as a series."
   ]
  },
  {
   "cell_type": "code",
   "execution_count": 5,
   "metadata": {},
   "outputs": [
    {
     "name": "stdout",
     "output_type": "stream",
     "text": [
      "<class 'pandas.core.frame.DataFrame'>\n",
      "DatetimeIndex: 24013 entries, 1927-12-30 00:00:00-05:00 to 2023-08-04 00:00:00-04:00\n",
      "Data columns (total 7 columns):\n",
      " #   Column        Non-Null Count  Dtype  \n",
      "---  ------        --------------  -----  \n",
      " 0   Open          24013 non-null  float64\n",
      " 1   High          24013 non-null  float64\n",
      " 2   Low           24013 non-null  float64\n",
      " 3   Close         24013 non-null  float64\n",
      " 4   Volume        24013 non-null  int64  \n",
      " 5   Dividends     24013 non-null  float64\n",
      " 6   Stock Splits  24013 non-null  float64\n",
      "dtypes: float64(6), int64(1)\n",
      "memory usage: 1.5 MB\n"
     ]
    }
   ],
   "source": [
    "# Check the data types\n",
    "sp500.info() \n"
   ]
  },
  {
   "cell_type": "markdown",
   "metadata": {},
   "source": [
    "####  Let's check if there is a missing value\n",
    "I checked null values which is a fundamental part of data cleaning."
   ]
  },
  {
   "cell_type": "code",
   "execution_count": 6,
   "metadata": {},
   "outputs": [
    {
     "data": {
      "text/plain": [
       "Open            0\n",
       "High            0\n",
       "Low             0\n",
       "Close           0\n",
       "Volume          0\n",
       "Dividends       0\n",
       "Stock Splits    0\n",
       "dtype: int64"
      ]
     },
     "execution_count": 6,
     "metadata": {},
     "output_type": "execute_result"
    }
   ],
   "source": [
    "# recommended code \n",
    "sp500.isnull().sum()"
   ]
  },
  {
   "cell_type": "markdown",
   "metadata": {},
   "source": [
    "Sanity check, that there are indeed no null values in the dataset"
   ]
  },
  {
   "cell_type": "markdown",
   "metadata": {},
   "source": [
    "#### Check duplicate value in the dataframe"
   ]
  },
  {
   "cell_type": "code",
   "execution_count": 13,
   "metadata": {},
   "outputs": [
    {
     "data": {
      "text/plain": [
       "False    20157\n",
       "True      3856\n",
       "Name: count, dtype: int64"
      ]
     },
     "execution_count": 13,
     "metadata": {},
     "output_type": "execute_result"
    }
   ],
   "source": [
    "# use duplicated function\n",
    "sp500_dup = sp500.duplicated()\n",
    "\n",
    "# check the result\n",
    "sp500_dup.value_counts()"
   ]
  },
  {
   "cell_type": "markdown",
   "metadata": {},
   "source": [
    "#### Plot the closing price aginst the index\n"
   ]
  },
  {
   "cell_type": "code",
   "execution_count": 5,
   "metadata": {},
   "outputs": [
    {
     "data": {
      "text/plain": [
       "<Axes: xlabel='Date'>"
      ]
     },
     "execution_count": 5,
     "metadata": {},
     "output_type": "execute_result"
    },
    {
     "data": {
      "image/png": "[encoded data removed]",
      "text/plain": [
       "<Figure size 432x288 with 1 Axes>"
      ]
     },
     "metadata": {
      "needs_background": "light"
     },
     "output_type": "display_data"
    }
   ],
   "source": [
    "# plot closing price vs index\n",
    "\n",
    "sp500.plot.line(y=\"Close\",use_index=True)\n",
    "\n",
    "#fig.savefig('w5.png')\n"
   ]
  },
  {
   "cell_type": "markdown",
   "metadata": {},
   "source": [
    "This plot shows price history of S&P500 index. Based on this plot we really can regret not buying the index fund anypoint in the last few years."
   ]
  },
  {
   "cell_type": "markdown",
   "metadata": {},
   "source": [
    "### Dataset preparation"
   ]
  },
  {
   "cell_type": "markdown",
   "metadata": {},
   "source": [
    "There is a lot of historical data in this data frame and usually a lot of historical data is great but with stock market data, if we go back too far the market it could shift fundamentally and some of that old data might not be useful for making future prediction. So, I will remove all data came before 1990-01-01.And I will remove Dividends and Stock Splits columns from the data frame."
   ]
  },
  {
   "cell_type": "code",
   "execution_count": 3,
   "metadata": {},
   "outputs": [],
   "source": [
    "# remove extra columns\n",
    "del sp500[\"Dividends\"]\n",
    "del sp500[\"Stock Splits\"]"
   ]
  },
  {
   "cell_type": "code",
   "execution_count": 4,
   "metadata": {},
   "outputs": [],
   "source": [
    "# remove data before 1990-01-01\n",
    "# use panda's loc method\n",
    "# only take rows where the index is at least 1990-01-01\n",
    "df = sp500.loc[\"1990-01-01\":].copy()"
   ]
  },
  {
   "cell_type": "code",
   "execution_count": 5,
   "metadata": {},
   "outputs": [
    {
     "data": {
      "text/html": [
       "<div>\n",
       "<style scoped>\n",
       "    .dataframe tbody tr th:only-of-type {\n",
       "        vertical-align: middle;\n",
       "    }\n",
       "\n",
       "    .dataframe tbody tr th {\n",
       "        vertical-align: top;\n",
       "    }\n",
       "\n",
       "    .dataframe thead th {\n",
       "        text-align: right;\n",
       "    }\n",
       "</style>\n",
       "<table border=\"1\" class=\"dataframe\">\n",
       "  <thead>\n",
       "    <tr style=\"text-align: right;\">\n",
       "      <th></th>\n",
       "      <th>Open</th>\n",
       "      <th>High</th>\n",
       "      <th>Low</th>\n",
       "      <th>Close</th>\n",
       "      <th>Volume</th>\n",
       "      <th>Tomorrow</th>\n",
       "    </tr>\n",
       "    <tr>\n",
       "      <th>Date</th>\n",
       "      <th></th>\n",
       "      <th></th>\n",
       "      <th></th>\n",
       "      <th></th>\n",
       "      <th></th>\n",
       "      <th></th>\n",
       "    </tr>\n",
       "  </thead>\n",
       "  <tbody>\n",
       "    <tr>\n",
       "      <th>1990-01-02 00:00:00-05:00</th>\n",
       "      <td>353.399994</td>\n",
       "      <td>359.690002</td>\n",
       "      <td>351.980011</td>\n",
       "      <td>359.690002</td>\n",
       "      <td>162070000</td>\n",
       "      <td>358.760010</td>\n",
       "    </tr>\n",
       "    <tr>\n",
       "      <th>1990-01-03 00:00:00-05:00</th>\n",
       "      <td>359.690002</td>\n",
       "      <td>360.589996</td>\n",
       "      <td>357.890015</td>\n",
       "      <td>358.760010</td>\n",
       "      <td>192330000</td>\n",
       "      <td>355.670013</td>\n",
       "    </tr>\n",
       "    <tr>\n",
       "      <th>1990-01-04 00:00:00-05:00</th>\n",
       "      <td>358.760010</td>\n",
       "      <td>358.760010</td>\n",
       "      <td>352.890015</td>\n",
       "      <td>355.670013</td>\n",
       "      <td>177000000</td>\n",
       "      <td>352.200012</td>\n",
       "    </tr>\n",
       "    <tr>\n",
       "      <th>1990-01-05 00:00:00-05:00</th>\n",
       "      <td>355.670013</td>\n",
       "      <td>355.670013</td>\n",
       "      <td>351.350006</td>\n",
       "      <td>352.200012</td>\n",
       "      <td>158530000</td>\n",
       "      <td>353.790009</td>\n",
       "    </tr>\n",
       "    <tr>\n",
       "      <th>1990-01-08 00:00:00-05:00</th>\n",
       "      <td>352.200012</td>\n",
       "      <td>354.239990</td>\n",
       "      <td>350.540009</td>\n",
       "      <td>353.790009</td>\n",
       "      <td>140110000</td>\n",
       "      <td>349.619995</td>\n",
       "    </tr>\n",
       "    <tr>\n",
       "      <th>...</th>\n",
       "      <td>...</td>\n",
       "      <td>...</td>\n",
       "      <td>...</td>\n",
       "      <td>...</td>\n",
       "      <td>...</td>\n",
       "      <td>...</td>\n",
       "    </tr>\n",
       "    <tr>\n",
       "      <th>2023-07-31 00:00:00-04:00</th>\n",
       "      <td>4584.819824</td>\n",
       "      <td>4594.220215</td>\n",
       "      <td>4573.140137</td>\n",
       "      <td>4588.959961</td>\n",
       "      <td>4503600000</td>\n",
       "      <td>4576.729980</td>\n",
       "    </tr>\n",
       "    <tr>\n",
       "      <th>2023-08-01 00:00:00-04:00</th>\n",
       "      <td>4578.830078</td>\n",
       "      <td>4584.620117</td>\n",
       "      <td>4567.529785</td>\n",
       "      <td>4576.729980</td>\n",
       "      <td>4042370000</td>\n",
       "      <td>4513.390137</td>\n",
       "    </tr>\n",
       "    <tr>\n",
       "      <th>2023-08-02 00:00:00-04:00</th>\n",
       "      <td>4550.930176</td>\n",
       "      <td>4550.930176</td>\n",
       "      <td>4505.750000</td>\n",
       "      <td>4513.390137</td>\n",
       "      <td>4270710000</td>\n",
       "      <td>4501.890137</td>\n",
       "    </tr>\n",
       "    <tr>\n",
       "      <th>2023-08-03 00:00:00-04:00</th>\n",
       "      <td>4494.270020</td>\n",
       "      <td>4519.490234</td>\n",
       "      <td>4485.540039</td>\n",
       "      <td>4501.890137</td>\n",
       "      <td>4149120000</td>\n",
       "      <td>4478.029785</td>\n",
       "    </tr>\n",
       "    <tr>\n",
       "      <th>2023-08-04 00:00:00-04:00</th>\n",
       "      <td>4513.959961</td>\n",
       "      <td>4540.339844</td>\n",
       "      <td>4474.549805</td>\n",
       "      <td>4478.029785</td>\n",
       "      <td>4143310000</td>\n",
       "      <td>NaN</td>\n",
       "    </tr>\n",
       "  </tbody>\n",
       "</table>\n",
       "<p>8463 rows × 6 columns</p>\n",
       "</div>"
      ],
      "text/plain": [
       "                                  Open         High          Low        Close  \\\n",
       "Date                                                                            \n",
       "1990-01-02 00:00:00-05:00   353.399994   359.690002   351.980011   359.690002   \n",
       "1990-01-03 00:00:00-05:00   359.690002   360.589996   357.890015   358.760010   \n",
       "1990-01-04 00:00:00-05:00   358.760010   358.760010   352.890015   355.670013   \n",
       "1990-01-05 00:00:00-05:00   355.670013   355.670013   351.350006   352.200012   \n",
       "1990-01-08 00:00:00-05:00   352.200012   354.239990   350.540009   353.790009   \n",
       "...                                ...          ...          ...          ...   \n",
       "2023-07-31 00:00:00-04:00  4584.819824  4594.220215  4573.140137  4588.959961   \n",
       "2023-08-01 00:00:00-04:00  4578.830078  4584.620117  4567.529785  4576.729980   \n",
       "2023-08-02 00:00:00-04:00  4550.930176  4550.930176  4505.750000  4513.390137   \n",
       "2023-08-03 00:00:00-04:00  4494.270020  4519.490234  4485.540039  4501.890137   \n",
       "2023-08-04 00:00:00-04:00  4513.959961  4540.339844  4474.549805  4478.029785   \n",
       "\n",
       "                               Volume     Tomorrow  \n",
       "Date                                                \n",
       "1990-01-02 00:00:00-05:00   162070000   358.760010  \n",
       "1990-01-03 00:00:00-05:00   192330000   355.670013  \n",
       "1990-01-04 00:00:00-05:00   177000000   352.200012  \n",
       "1990-01-05 00:00:00-05:00   158530000   353.790009  \n",
       "1990-01-08 00:00:00-05:00   140110000   349.619995  \n",
       "...                               ...          ...  \n",
       "2023-07-31 00:00:00-04:00  4503600000  4576.729980  \n",
       "2023-08-01 00:00:00-04:00  4042370000  4513.390137  \n",
       "2023-08-02 00:00:00-04:00  4270710000  4501.890137  \n",
       "2023-08-03 00:00:00-04:00  4149120000  4478.029785  \n",
       "2023-08-04 00:00:00-04:00  4143310000          NaN  \n",
       "\n",
       "[8463 rows x 6 columns]"
      ]
     },
     "execution_count": 5,
     "metadata": {},
     "output_type": "execute_result"
    }
   ],
   "source": [
    "# create column called tomorrow\n",
    "# the new column going to be tomorrow's price\n",
    "# use panda's shift method\n",
    "# use the close column and shift all the price back one day\n",
    "\n",
    "df[\"Tomorrow\"] = df[\"Close\"].shift(-1)\n",
    "\n",
    "# show the dataframe\n",
    "df"
   ]
  },
  {
   "cell_type": "markdown",
   "metadata": {},
   "source": [
    "#### Setting up the target for machine learning"
   ]
  },
  {
   "cell_type": "markdown",
   "metadata": {},
   "source": [
    "This target going to be where the price goes up or down tomorrow. Some people like to predict the absolute price, but the big problem with that is our model can be extremely accurate. we might be very good in predicting the absolute price, but we can still lose money because ultimately if we are buying and selling stocks , we don't care getting accurate on the absolute price , we care more on getting accurate on the directionality i.e. if the price goes up or down. So, what am trying to do is let say on days the stock goes up ,can we actually predict it would go up? in that way if we want to buy the stock, we know we can buy it and the price will go up so our target going to be the stock up or down."
   ]
  },
  {
   "cell_type": "code",
   "execution_count": 6,
   "metadata": {},
   "outputs": [
    {
     "data": {
      "text/html": [
       "<div>\n",
       "<style scoped>\n",
       "    .dataframe tbody tr th:only-of-type {\n",
       "        vertical-align: middle;\n",
       "    }\n",
       "\n",
       "    .dataframe tbody tr th {\n",
       "        vertical-align: top;\n",
       "    }\n",
       "\n",
       "    .dataframe thead th {\n",
       "        text-align: right;\n",
       "    }\n",
       "</style>\n",
       "<table border=\"1\" class=\"dataframe\">\n",
       "  <thead>\n",
       "    <tr style=\"text-align: right;\">\n",
       "      <th></th>\n",
       "      <th>Open</th>\n",
       "      <th>High</th>\n",
       "      <th>Low</th>\n",
       "      <th>Close</th>\n",
       "      <th>Volume</th>\n",
       "      <th>Tomorrow</th>\n",
       "      <th>Target</th>\n",
       "    </tr>\n",
       "    <tr>\n",
       "      <th>Date</th>\n",
       "      <th></th>\n",
       "      <th></th>\n",
       "      <th></th>\n",
       "      <th></th>\n",
       "      <th></th>\n",
       "      <th></th>\n",
       "      <th></th>\n",
       "    </tr>\n",
       "  </thead>\n",
       "  <tbody>\n",
       "    <tr>\n",
       "      <th>1990-01-02 00:00:00-05:00</th>\n",
       "      <td>353.399994</td>\n",
       "      <td>359.690002</td>\n",
       "      <td>351.980011</td>\n",
       "      <td>359.690002</td>\n",
       "      <td>162070000</td>\n",
       "      <td>358.760010</td>\n",
       "      <td>0</td>\n",
       "    </tr>\n",
       "    <tr>\n",
       "      <th>1990-01-03 00:00:00-05:00</th>\n",
       "      <td>359.690002</td>\n",
       "      <td>360.589996</td>\n",
       "      <td>357.890015</td>\n",
       "      <td>358.760010</td>\n",
       "      <td>192330000</td>\n",
       "      <td>355.670013</td>\n",
       "      <td>0</td>\n",
       "    </tr>\n",
       "    <tr>\n",
       "      <th>1990-01-04 00:00:00-05:00</th>\n",
       "      <td>358.760010</td>\n",
       "      <td>358.760010</td>\n",
       "      <td>352.890015</td>\n",
       "      <td>355.670013</td>\n",
       "      <td>177000000</td>\n",
       "      <td>352.200012</td>\n",
       "      <td>0</td>\n",
       "    </tr>\n",
       "    <tr>\n",
       "      <th>1990-01-05 00:00:00-05:00</th>\n",
       "      <td>355.670013</td>\n",
       "      <td>355.670013</td>\n",
       "      <td>351.350006</td>\n",
       "      <td>352.200012</td>\n",
       "      <td>158530000</td>\n",
       "      <td>353.790009</td>\n",
       "      <td>1</td>\n",
       "    </tr>\n",
       "    <tr>\n",
       "      <th>1990-01-08 00:00:00-05:00</th>\n",
       "      <td>352.200012</td>\n",
       "      <td>354.239990</td>\n",
       "      <td>350.540009</td>\n",
       "      <td>353.790009</td>\n",
       "      <td>140110000</td>\n",
       "      <td>349.619995</td>\n",
       "      <td>0</td>\n",
       "    </tr>\n",
       "    <tr>\n",
       "      <th>...</th>\n",
       "      <td>...</td>\n",
       "      <td>...</td>\n",
       "      <td>...</td>\n",
       "      <td>...</td>\n",
       "      <td>...</td>\n",
       "      <td>...</td>\n",
       "      <td>...</td>\n",
       "    </tr>\n",
       "    <tr>\n",
       "      <th>2023-07-31 00:00:00-04:00</th>\n",
       "      <td>4584.819824</td>\n",
       "      <td>4594.220215</td>\n",
       "      <td>4573.140137</td>\n",
       "      <td>4588.959961</td>\n",
       "      <td>4503600000</td>\n",
       "      <td>4576.729980</td>\n",
       "      <td>0</td>\n",
       "    </tr>\n",
       "    <tr>\n",
       "      <th>2023-08-01 00:00:00-04:00</th>\n",
       "      <td>4578.830078</td>\n",
       "      <td>4584.620117</td>\n",
       "      <td>4567.529785</td>\n",
       "      <td>4576.729980</td>\n",
       "      <td>4042370000</td>\n",
       "      <td>4513.390137</td>\n",
       "      <td>0</td>\n",
       "    </tr>\n",
       "    <tr>\n",
       "      <th>2023-08-02 00:00:00-04:00</th>\n",
       "      <td>4550.930176</td>\n",
       "      <td>4550.930176</td>\n",
       "      <td>4505.750000</td>\n",
       "      <td>4513.390137</td>\n",
       "      <td>4270710000</td>\n",
       "      <td>4501.890137</td>\n",
       "      <td>0</td>\n",
       "    </tr>\n",
       "    <tr>\n",
       "      <th>2023-08-03 00:00:00-04:00</th>\n",
       "      <td>4494.270020</td>\n",
       "      <td>4519.490234</td>\n",
       "      <td>4485.540039</td>\n",
       "      <td>4501.890137</td>\n",
       "      <td>4149120000</td>\n",
       "      <td>4478.029785</td>\n",
       "      <td>0</td>\n",
       "    </tr>\n",
       "    <tr>\n",
       "      <th>2023-08-04 00:00:00-04:00</th>\n",
       "      <td>4513.959961</td>\n",
       "      <td>4540.339844</td>\n",
       "      <td>4474.549805</td>\n",
       "      <td>4478.029785</td>\n",
       "      <td>4143310000</td>\n",
       "      <td>NaN</td>\n",
       "      <td>0</td>\n",
       "    </tr>\n",
       "  </tbody>\n",
       "</table>\n",
       "<p>8463 rows × 7 columns</p>\n",
       "</div>"
      ],
      "text/plain": [
       "                                  Open         High          Low        Close  \\\n",
       "Date                                                                            \n",
       "1990-01-02 00:00:00-05:00   353.399994   359.690002   351.980011   359.690002   \n",
       "1990-01-03 00:00:00-05:00   359.690002   360.589996   357.890015   358.760010   \n",
       "1990-01-04 00:00:00-05:00   358.760010   358.760010   352.890015   355.670013   \n",
       "1990-01-05 00:00:00-05:00   355.670013   355.670013   351.350006   352.200012   \n",
       "1990-01-08 00:00:00-05:00   352.200012   354.239990   350.540009   353.790009   \n",
       "...                                ...          ...          ...          ...   \n",
       "2023-07-31 00:00:00-04:00  4584.819824  4594.220215  4573.140137  4588.959961   \n",
       "2023-08-01 00:00:00-04:00  4578.830078  4584.620117  4567.529785  4576.729980   \n",
       "2023-08-02 00:00:00-04:00  4550.930176  4550.930176  4505.750000  4513.390137   \n",
       "2023-08-03 00:00:00-04:00  4494.270020  4519.490234  4485.540039  4501.890137   \n",
       "2023-08-04 00:00:00-04:00  4513.959961  4540.339844  4474.549805  4478.029785   \n",
       "\n",
       "                               Volume     Tomorrow  Target  \n",
       "Date                                                        \n",
       "1990-01-02 00:00:00-05:00   162070000   358.760010       0  \n",
       "1990-01-03 00:00:00-05:00   192330000   355.670013       0  \n",
       "1990-01-04 00:00:00-05:00   177000000   352.200012       0  \n",
       "1990-01-05 00:00:00-05:00   158530000   353.790009       1  \n",
       "1990-01-08 00:00:00-05:00   140110000   349.619995       0  \n",
       "...                               ...          ...     ...  \n",
       "2023-07-31 00:00:00-04:00  4503600000  4576.729980       0  \n",
       "2023-08-01 00:00:00-04:00  4042370000  4513.390137       0  \n",
       "2023-08-02 00:00:00-04:00  4270710000  4501.890137       0  \n",
       "2023-08-03 00:00:00-04:00  4149120000  4478.029785       0  \n",
       "2023-08-04 00:00:00-04:00  4143310000          NaN       0  \n",
       "\n",
       "[8463 rows x 7 columns]"
      ]
     },
     "execution_count": 6,
     "metadata": {},
     "output_type": "execute_result"
    }
   ],
   "source": [
    "# set up the target, this is what we are trying to predict using machine learning\n",
    "# based on tomorrow's price set up the target price\n",
    "# the target: is tomorrow's price grater than tody's price\n",
    "\n",
    "df[\"Target\"] = (df[\"Tomorrow\"] > df[\"Close\"]).astype(int)\n",
    "\n",
    "# fig.savefig('x6.png')\n",
    "\n",
    "# show the dataframe\n",
    "df"
   ]
  },
  {
   "cell_type": "markdown",
   "metadata": {},
   "source": [
    "#### Check duplicates after data preparation"
   ]
  },
  {
   "cell_type": "code",
   "execution_count": 10,
   "metadata": {},
   "outputs": [
    {
     "data": {
      "text/plain": [
       "False    8463\n",
       "Name: count, dtype: int64"
      ]
     },
     "execution_count": 10,
     "metadata": {},
     "output_type": "execute_result"
    }
   ],
   "source": [
    "# use duplicated function\n",
    "sp500_dup = df.duplicated()\n",
    "\n",
    "# check the result\n",
    "sp500_dup.value_counts()"
   ]
  },
  {
   "cell_type": "code",
   "execution_count": 21,
   "metadata": {},
   "outputs": [
    {
     "data": {
      "text/html": [
       "<div>\n",
       "<style scoped>\n",
       "    .dataframe tbody tr th:only-of-type {\n",
       "        vertical-align: middle;\n",
       "    }\n",
       "\n",
       "    .dataframe tbody tr th {\n",
       "        vertical-align: top;\n",
       "    }\n",
       "\n",
       "    .dataframe thead th {\n",
       "        text-align: right;\n",
       "    }\n",
       "</style>\n",
       "<table border=\"1\" class=\"dataframe\">\n",
       "  <thead>\n",
       "    <tr style=\"text-align: right;\">\n",
       "      <th></th>\n",
       "      <th>Open</th>\n",
       "      <th>High</th>\n",
       "      <th>Low</th>\n",
       "      <th>Close</th>\n",
       "      <th>Volume</th>\n",
       "      <th>Tomorrow</th>\n",
       "      <th>Target</th>\n",
       "    </tr>\n",
       "  </thead>\n",
       "  <tbody>\n",
       "    <tr>\n",
       "      <th>count</th>\n",
       "      <td>8463.000000</td>\n",
       "      <td>8463.000000</td>\n",
       "      <td>8463.000000</td>\n",
       "      <td>8463.000000</td>\n",
       "      <td>8.463000e+03</td>\n",
       "      <td>8462.000000</td>\n",
       "      <td>8463.000000</td>\n",
       "    </tr>\n",
       "    <tr>\n",
       "      <th>mean</th>\n",
       "      <td>1549.033337</td>\n",
       "      <td>1558.269237</td>\n",
       "      <td>1539.167950</td>\n",
       "      <td>1549.352714</td>\n",
       "      <td>2.442614e+09</td>\n",
       "      <td>1549.493303</td>\n",
       "      <td>0.534326</td>\n",
       "    </tr>\n",
       "    <tr>\n",
       "      <th>std</th>\n",
       "      <td>1049.055955</td>\n",
       "      <td>1054.842049</td>\n",
       "      <td>1042.891916</td>\n",
       "      <td>1049.206437</td>\n",
       "      <td>1.852540e+09</td>\n",
       "      <td>1049.188716</td>\n",
       "      <td>0.498850</td>\n",
       "    </tr>\n",
       "    <tr>\n",
       "      <th>min</th>\n",
       "      <td>295.450012</td>\n",
       "      <td>301.450012</td>\n",
       "      <td>294.510010</td>\n",
       "      <td>295.459991</td>\n",
       "      <td>1.499000e+07</td>\n",
       "      <td>295.459991</td>\n",
       "      <td>0.000000</td>\n",
       "    </tr>\n",
       "    <tr>\n",
       "      <th>25%</th>\n",
       "      <td>889.734985</td>\n",
       "      <td>898.895020</td>\n",
       "      <td>878.924988</td>\n",
       "      <td>889.984985</td>\n",
       "      <td>6.259850e+08</td>\n",
       "      <td>890.177475</td>\n",
       "      <td>0.000000</td>\n",
       "    </tr>\n",
       "    <tr>\n",
       "      <th>50%</th>\n",
       "      <td>1261.890015</td>\n",
       "      <td>1269.880005</td>\n",
       "      <td>1254.180054</td>\n",
       "      <td>1261.890015</td>\n",
       "      <td>2.420510e+09</td>\n",
       "      <td>1261.940002</td>\n",
       "      <td>1.000000</td>\n",
       "    </tr>\n",
       "    <tr>\n",
       "      <th>75%</th>\n",
       "      <td>2009.674988</td>\n",
       "      <td>2020.659973</td>\n",
       "      <td>1995.224976</td>\n",
       "      <td>2010.835022</td>\n",
       "      <td>3.823775e+09</td>\n",
       "      <td>2011.052521</td>\n",
       "      <td>1.000000</td>\n",
       "    </tr>\n",
       "    <tr>\n",
       "      <th>max</th>\n",
       "      <td>4804.509766</td>\n",
       "      <td>4818.620117</td>\n",
       "      <td>4780.040039</td>\n",
       "      <td>4796.560059</td>\n",
       "      <td>1.145623e+10</td>\n",
       "      <td>4796.560059</td>\n",
       "      <td>1.000000</td>\n",
       "    </tr>\n",
       "  </tbody>\n",
       "</table>\n",
       "</div>"
      ],
      "text/plain": [
       "              Open         High          Low        Close        Volume  \\\n",
       "count  8463.000000  8463.000000  8463.000000  8463.000000  8.463000e+03   \n",
       "mean   1549.033337  1558.269237  1539.167950  1549.352714  2.442614e+09   \n",
       "std    1049.055955  1054.842049  1042.891916  1049.206437  1.852540e+09   \n",
       "min     295.450012   301.450012   294.510010   295.459991  1.499000e+07   \n",
       "25%     889.734985   898.895020   878.924988   889.984985  6.259850e+08   \n",
       "50%    1261.890015  1269.880005  1254.180054  1261.890015  2.420510e+09   \n",
       "75%    2009.674988  2020.659973  1995.224976  2010.835022  3.823775e+09   \n",
       "max    4804.509766  4818.620117  4780.040039  4796.560059  1.145623e+10   \n",
       "\n",
       "          Tomorrow       Target  \n",
       "count  8462.000000  8463.000000  \n",
       "mean   1549.493303     0.534326  \n",
       "std    1049.188716     0.498850  \n",
       "min     295.459991     0.000000  \n",
       "25%     890.177475     0.000000  \n",
       "50%    1261.940002     1.000000  \n",
       "75%    2011.052521     1.000000  \n",
       "max    4796.560059     1.000000  "
      ]
     },
     "execution_count": 21,
     "metadata": {},
     "output_type": "execute_result"
    }
   ],
   "source": [
    "# Brief Description of our dataset\n",
    "# fig.savefig('y2.png')\n",
    "\n",
    "df.describe()\n",
    "\n"
   ]
  },
  {
   "cell_type": "markdown",
   "metadata": {},
   "source": [
    "#### Distribution of the dataset using histogram"
   ]
  },
  {
   "cell_type": "code",
   "execution_count": 12,
   "metadata": {},
   "outputs": [
    {
     "data": {
      "image/png": "[encoded data removed]",
      "text/plain": [
       "<Figure size 864x720 with 6 Axes>"
      ]
     },
     "metadata": {
      "needs_background": "light"
     },
     "output_type": "display_data"
    }
   ],
   "source": [
    "# plot histogram\n",
    "selected_columns = ['Open','High','Low','Close','Volume']\n",
    "selected_data = df[selected_columns]\n",
    "selected_data.hist(figsize=(12,10));\n",
    "#fig.savefig('j+.png', bbox_inches='tight') # saving image so we can use in ppt"
   ]
  },
  {
   "cell_type": "markdown",
   "metadata": {},
   "source": [
    "Based on the distribution plot,we need to scale all the numerical values in dataset, before modeling."
   ]
  },
  {
   "cell_type": "markdown",
   "metadata": {},
   "source": [
    "#### Boxplot:"
   ]
  },
  {
   "cell_type": "code",
   "execution_count": 23,
   "metadata": {},
   "outputs": [
    {
     "data": {
      "image/png": "[encoded data removed]",
      "text/plain": [
       "<Figure size 720x720 with 5 Axes>"
      ]
     },
     "metadata": {
      "needs_background": "light"
     },
     "output_type": "display_data"
    }
   ],
   "source": [
    "num_column = ['Open', 'High', 'Low', 'Close', 'Volume']\n",
    "\n",
    "# set figure size\n",
    "fig = plt.figure(figsize=(10, 10))\n",
    "i = 1\n",
    "for f in num_column :\n",
    "    plt.subplot(3, 3, i)\n",
    "    plt.boxplot(df[f], whis=1.5) # Increase the size of the box using 'whis' parameter\n",
    "    plt.title(f)\n",
    "    i += 1\n",
    "#fig.savefig('i1.png') # saving image so we can use in ppt\n",
    "plt.show()"
   ]
  },
  {
   "cell_type": "markdown",
   "metadata": {},
   "source": [
    "Volume column has outliers that we will need to scale later before model training."
   ]
  },
  {
   "cell_type": "markdown",
   "metadata": {},
   "source": [
    "####  Let's look at each column individually"
   ]
  },
  {
   "cell_type": "markdown",
   "metadata": {},
   "source": [
    "##### Open:"
   ]
  },
  {
   "cell_type": "code",
   "execution_count": 24,
   "metadata": {},
   "outputs": [
    {
     "data": {
      "text/plain": [
       "<Axes: xlabel='Open'>"
      ]
     },
     "execution_count": 24,
     "metadata": {},
     "output_type": "execute_result"
    },
    {
     "data": {
      "image/png": "[encoded data removed]",
      "text/plain": [
       "<Figure size 432x288 with 1 Axes>"
      ]
     },
     "metadata": {
      "needs_background": "light"
     },
     "output_type": "display_data"
    }
   ],
   "source": [
    "sns.boxplot(df.Open)\n",
    "#fig.savefig('m1.png') # saving image so we can use in ppt"
   ]
  },
  {
   "cell_type": "code",
   "execution_count": 25,
   "metadata": {},
   "outputs": [
    {
     "data": {
      "text/plain": [
       "<Axes: xlabel='High'>"
      ]
     },
     "execution_count": 25,
     "metadata": {},
     "output_type": "execute_result"
    },
    {
     "data": {
      "image/png": "[encoded data removed]",
      "text/plain": [
       "<Figure size 432x288 with 1 Axes>"
      ]
     },
     "metadata": {
      "needs_background": "light"
     },
     "output_type": "display_data"
    }
   ],
   "source": [
    "sns.boxplot(df.High)\n",
    "#fig.savefig('b1.png') # saving image so we can use in ppt"
   ]
  },
  {
   "cell_type": "code",
   "execution_count": 26,
   "metadata": {},
   "outputs": [
    {
     "data": {
      "text/plain": [
       "<Axes: xlabel='Low'>"
      ]
     },
     "execution_count": 26,
     "metadata": {},
     "output_type": "execute_result"
    },
    {
     "data": {
      "image/png": "[encoded data removed]",
      "text/plain": [
       "<Figure size 432x288 with 1 Axes>"
      ]
     },
     "metadata": {
      "needs_background": "light"
     },
     "output_type": "display_data"
    }
   ],
   "source": [
    "sns.boxplot(df.Low)\n",
    "#fig.savefig('s1.png') # saving image so we can use in ppt"
   ]
  },
  {
   "cell_type": "code",
   "execution_count": 27,
   "metadata": {},
   "outputs": [
    {
     "data": {
      "image/png": "[encoded data removed]",
      "text/plain": [
       "<Figure size 432x288 with 1 Axes>"
      ]
     },
     "metadata": {
      "needs_background": "light"
     },
     "output_type": "display_data"
    }
   ],
   "source": [
    "sns.boxplot(df.Close)\n",
    "fig.savefig('k1.png') # saving image so we can use in ppt"
   ]
  },
  {
   "cell_type": "code",
   "execution_count": 28,
   "metadata": {},
   "outputs": [
    {
     "data": {
      "image/png": "[encoded data removed]",
      "text/plain": [
       "<Figure size 432x288 with 1 Axes>"
      ]
     },
     "metadata": {
      "needs_background": "light"
     },
     "output_type": "display_data"
    }
   ],
   "source": [
    "sns.boxplot(df.Volume)\n",
    "fig.savefig('v1.png') # saving image so we can use in ppt"
   ]
  },
  {
   "cell_type": "markdown",
   "metadata": {},
   "source": [
    "Volume column shows that there are outliers, and we will need to scale this later in the data preparation before modeling. "
   ]
  },
  {
   "cell_type": "code",
   "execution_count": 29,
   "metadata": {},
   "outputs": [
    {
     "name": "stderr",
     "output_type": "stream",
     "text": [
      "<ipython-input-29-5ab16d79d5dc>:8: UserWarning: 'set_params()' not defined for locator of type <class 'pandas.plotting._matplotlib.converter.PandasAutoDateLocator'>\n",
      "  plt.locator_params(axis='x', nbins=10)  # Adjust the number of bins to control x-axis tick frequency\n"
     ]
    },
    {
     "data": {
      "image/png": "[encoded data removed]",
      "text/plain": [
       "<Figure size 720x288 with 1 Axes>"
      ]
     },
     "metadata": {},
     "output_type": "display_data"
    }
   ],
   "source": [
    "# Plotting close price data\n",
    "plt.style.use('ggplot')\n",
    "plt.figure(figsize=(10, 4))\n",
    "plt.grid(True)\n",
    "plt.xlabel('Date', fontsize=14)\n",
    "plt.ylabel('Close', fontsize=14)\n",
    "df['Close'].plot(color='blue')\n",
    "plt.locator_params(axis='x', nbins=10)  # Adjust the number of bins to control x-axis tick frequency\n",
    "plt.xticks(fontsize=10)\n",
    "plt.yticks(fontsize=10)\n",
    "plt.title('S&P500 Closing Price', fontsize=18)\n",
    "fig.savefig('i9.png')\n",
    "plt.show()"
   ]
  },
  {
   "cell_type": "code",
   "execution_count": 30,
   "metadata": {},
   "outputs": [
    {
     "data": {
      "image/png": "[encoded data removed]",
      "text/plain": [
       "<Figure size 720x288 with 1 Axes>"
      ]
     },
     "metadata": {},
     "output_type": "display_data"
    }
   ],
   "source": [
    "plt.figure(figsize=(10, 4)) \n",
    "sns.histplot(df['Close'], kde=True, color='blue')\n",
    "plt.xlabel('Close', fontsize=20)\n",
    "plt.xticks(fontsize = 15)\n",
    "plt.ylabel('Count', fontsize=20)\n",
    "plt.yticks(fontsize  = 15)\n",
    "plt.title('Histogram of Close Prices', fontsize=15)\n",
    "fig.savefig('e8.png')\n",
    "plt.show()"
   ]
  },
  {
   "cell_type": "markdown",
   "metadata": {},
   "source": [
    "This histogram plot shows the distribution of the 'Close' prices, where the x-axis represents the 'Close' price range and the y-axis represents the frequency (count) of occurrences within each price range.And this plot provides a smooth estimate of the probability density function for the 'Close' prices.And can help us understand the central tendency, spread, and potential outliers in the 'Close' prices distribution."
   ]
  },
  {
   "cell_type": "markdown",
   "metadata": {},
   "source": [
    "## Training an initial machine learning model\n",
    "Now the dataset is ready so let's start train the first machine learning model. For initial model am going to use RandomForestClassifier.I love to use RandomForestClassifier as my default model for most machine earning for a few reasons: one, it works by training a bunch of individual decision trees with randomized parameters and then averaging the results from those decision trees so, because of this process it  resistant  overfitting, they can overfit but it is harder for them to overfit than it is for others models to overfit. They also run relatively quickly, and they can pick up nonlinear tendency in the data. for example, the open price is not linearly corelated with the target, so RandomForest pick up non-linear relationships and  in stock price prediction most of the relationships are non-linear.  "
   ]
  },
  {
   "cell_type": "code",
   "execution_count": 7,
   "metadata": {},
   "outputs": [
    {
     "data": {
      "text/html": [
       "<div>\n",
       "<style scoped>\n",
       "    .dataframe tbody tr th:only-of-type {\n",
       "        vertical-align: middle;\n",
       "    }\n",
       "\n",
       "    .dataframe tbody tr th {\n",
       "        vertical-align: top;\n",
       "    }\n",
       "\n",
       "    .dataframe thead th {\n",
       "        text-align: right;\n",
       "    }\n",
       "</style>\n",
       "<table border=\"1\" class=\"dataframe\">\n",
       "  <thead>\n",
       "    <tr style=\"text-align: right;\">\n",
       "      <th></th>\n",
       "      <th>Open</th>\n",
       "      <th>High</th>\n",
       "      <th>Low</th>\n",
       "      <th>Close</th>\n",
       "      <th>Volume</th>\n",
       "      <th>Tomorrow</th>\n",
       "      <th>Target</th>\n",
       "    </tr>\n",
       "    <tr>\n",
       "      <th>Date</th>\n",
       "      <th></th>\n",
       "      <th></th>\n",
       "      <th></th>\n",
       "      <th></th>\n",
       "      <th></th>\n",
       "      <th></th>\n",
       "      <th></th>\n",
       "    </tr>\n",
       "  </thead>\n",
       "  <tbody>\n",
       "    <tr>\n",
       "      <th>1990-01-02 00:00:00-05:00</th>\n",
       "      <td>353.399994</td>\n",
       "      <td>359.690002</td>\n",
       "      <td>351.980011</td>\n",
       "      <td>359.690002</td>\n",
       "      <td>162070000</td>\n",
       "      <td>358.760010</td>\n",
       "      <td>0</td>\n",
       "    </tr>\n",
       "    <tr>\n",
       "      <th>1990-01-03 00:00:00-05:00</th>\n",
       "      <td>359.690002</td>\n",
       "      <td>360.589996</td>\n",
       "      <td>357.890015</td>\n",
       "      <td>358.760010</td>\n",
       "      <td>192330000</td>\n",
       "      <td>355.670013</td>\n",
       "      <td>0</td>\n",
       "    </tr>\n",
       "    <tr>\n",
       "      <th>1990-01-04 00:00:00-05:00</th>\n",
       "      <td>358.760010</td>\n",
       "      <td>358.760010</td>\n",
       "      <td>352.890015</td>\n",
       "      <td>355.670013</td>\n",
       "      <td>177000000</td>\n",
       "      <td>352.200012</td>\n",
       "      <td>0</td>\n",
       "    </tr>\n",
       "    <tr>\n",
       "      <th>1990-01-05 00:00:00-05:00</th>\n",
       "      <td>355.670013</td>\n",
       "      <td>355.670013</td>\n",
       "      <td>351.350006</td>\n",
       "      <td>352.200012</td>\n",
       "      <td>158530000</td>\n",
       "      <td>353.790009</td>\n",
       "      <td>1</td>\n",
       "    </tr>\n",
       "    <tr>\n",
       "      <th>1990-01-08 00:00:00-05:00</th>\n",
       "      <td>352.200012</td>\n",
       "      <td>354.239990</td>\n",
       "      <td>350.540009</td>\n",
       "      <td>353.790009</td>\n",
       "      <td>140110000</td>\n",
       "      <td>349.619995</td>\n",
       "      <td>0</td>\n",
       "    </tr>\n",
       "    <tr>\n",
       "      <th>...</th>\n",
       "      <td>...</td>\n",
       "      <td>...</td>\n",
       "      <td>...</td>\n",
       "      <td>...</td>\n",
       "      <td>...</td>\n",
       "      <td>...</td>\n",
       "      <td>...</td>\n",
       "    </tr>\n",
       "    <tr>\n",
       "      <th>2023-07-31 00:00:00-04:00</th>\n",
       "      <td>4584.819824</td>\n",
       "      <td>4594.220215</td>\n",
       "      <td>4573.140137</td>\n",
       "      <td>4588.959961</td>\n",
       "      <td>4503600000</td>\n",
       "      <td>4576.729980</td>\n",
       "      <td>0</td>\n",
       "    </tr>\n",
       "    <tr>\n",
       "      <th>2023-08-01 00:00:00-04:00</th>\n",
       "      <td>4578.830078</td>\n",
       "      <td>4584.620117</td>\n",
       "      <td>4567.529785</td>\n",
       "      <td>4576.729980</td>\n",
       "      <td>4042370000</td>\n",
       "      <td>4513.390137</td>\n",
       "      <td>0</td>\n",
       "    </tr>\n",
       "    <tr>\n",
       "      <th>2023-08-02 00:00:00-04:00</th>\n",
       "      <td>4550.930176</td>\n",
       "      <td>4550.930176</td>\n",
       "      <td>4505.750000</td>\n",
       "      <td>4513.390137</td>\n",
       "      <td>4270710000</td>\n",
       "      <td>4501.890137</td>\n",
       "      <td>0</td>\n",
       "    </tr>\n",
       "    <tr>\n",
       "      <th>2023-08-03 00:00:00-04:00</th>\n",
       "      <td>4494.270020</td>\n",
       "      <td>4519.490234</td>\n",
       "      <td>4485.540039</td>\n",
       "      <td>4501.890137</td>\n",
       "      <td>4149120000</td>\n",
       "      <td>4478.029785</td>\n",
       "      <td>0</td>\n",
       "    </tr>\n",
       "    <tr>\n",
       "      <th>2023-08-04 00:00:00-04:00</th>\n",
       "      <td>4513.959961</td>\n",
       "      <td>4540.339844</td>\n",
       "      <td>4474.549805</td>\n",
       "      <td>4478.029785</td>\n",
       "      <td>4143310000</td>\n",
       "      <td>NaN</td>\n",
       "      <td>0</td>\n",
       "    </tr>\n",
       "  </tbody>\n",
       "</table>\n",
       "<p>8463 rows × 7 columns</p>\n",
       "</div>"
      ],
      "text/plain": [
       "                                  Open         High          Low        Close  \\\n",
       "Date                                                                            \n",
       "1990-01-02 00:00:00-05:00   353.399994   359.690002   351.980011   359.690002   \n",
       "1990-01-03 00:00:00-05:00   359.690002   360.589996   357.890015   358.760010   \n",
       "1990-01-04 00:00:00-05:00   358.760010   358.760010   352.890015   355.670013   \n",
       "1990-01-05 00:00:00-05:00   355.670013   355.670013   351.350006   352.200012   \n",
       "1990-01-08 00:00:00-05:00   352.200012   354.239990   350.540009   353.790009   \n",
       "...                                ...          ...          ...          ...   \n",
       "2023-07-31 00:00:00-04:00  4584.819824  4594.220215  4573.140137  4588.959961   \n",
       "2023-08-01 00:00:00-04:00  4578.830078  4584.620117  4567.529785  4576.729980   \n",
       "2023-08-02 00:00:00-04:00  4550.930176  4550.930176  4505.750000  4513.390137   \n",
       "2023-08-03 00:00:00-04:00  4494.270020  4519.490234  4485.540039  4501.890137   \n",
       "2023-08-04 00:00:00-04:00  4513.959961  4540.339844  4474.549805  4478.029785   \n",
       "\n",
       "                               Volume     Tomorrow  Target  \n",
       "Date                                                        \n",
       "1990-01-02 00:00:00-05:00   162070000   358.760010       0  \n",
       "1990-01-03 00:00:00-05:00   192330000   355.670013       0  \n",
       "1990-01-04 00:00:00-05:00   177000000   352.200012       0  \n",
       "1990-01-05 00:00:00-05:00   158530000   353.790009       1  \n",
       "1990-01-08 00:00:00-05:00   140110000   349.619995       0  \n",
       "...                               ...          ...     ...  \n",
       "2023-07-31 00:00:00-04:00  4503600000  4576.729980       0  \n",
       "2023-08-01 00:00:00-04:00  4042370000  4513.390137       0  \n",
       "2023-08-02 00:00:00-04:00  4270710000  4501.890137       0  \n",
       "2023-08-03 00:00:00-04:00  4149120000  4478.029785       0  \n",
       "2023-08-04 00:00:00-04:00  4143310000          NaN       0  \n",
       "\n",
       "[8463 rows x 7 columns]"
      ]
     },
     "execution_count": 7,
     "metadata": {},
     "output_type": "execute_result"
    }
   ],
   "source": [
    "df"
   ]
  },
  {
   "cell_type": "markdown",
   "metadata": {},
   "source": [
    "#### Calculate the null error rate\n",
    "\n"
   ]
  },
  {
   "cell_type": "code",
   "execution_count": 8,
   "metadata": {},
   "outputs": [
    {
     "data": {
      "text/plain": [
       "0.4656741108354011"
      ]
     },
     "execution_count": 8,
     "metadata": {},
     "output_type": "execute_result"
    }
   ],
   "source": [
    "#Null error rate\n",
    "NRE = df.Target.value_counts()[1]/(df.Target.value_counts()[0] + df.Target.value_counts()[1])\n",
    "Error_Rate = 1 - NRE\n",
    "Error_Rate"
   ]
  },
  {
   "cell_type": "code",
   "execution_count": 15,
   "metadata": {},
   "outputs": [
    {
     "data": {
      "text/plain": [
       "Target\n",
       "1    4522\n",
       "0    3941\n",
       "Name: count, dtype: int64"
      ]
     },
     "execution_count": 15,
     "metadata": {},
     "output_type": "execute_result"
    }
   ],
   "source": [
    "df.Target.value_counts()"
   ]
  },
  {
   "cell_type": "markdown",
   "metadata": {},
   "source": [
    "There are 3941 data points belonging to 0 and 4522 data points belonging to 1."
   ]
  },
  {
   "cell_type": "code",
   "execution_count": 18,
   "metadata": {},
   "outputs": [
    {
     "data": {
      "image/png": "[encoded data removed]",
      "text/plain": [
       "<Figure size 360x360 with 1 Axes>"
      ]
     },
     "metadata": {
      "needs_background": "light"
     },
     "output_type": "display_data"
    }
   ],
   "source": [
    "plt.figure(figsize=(5,5))\n",
    "sns.countplot(x='Target', data=df, palette='hls')\n",
    "plt.show()"
   ]
  },
  {
   "cell_type": "markdown",
   "metadata": {},
   "source": [
    "- Let's  split our data into training and testing, and we are going to scale our data so they are all in the same range using the MinMaxScaler."
   ]
  },
  {
   "cell_type": "code",
   "execution_count": 10,
   "metadata": {},
   "outputs": [],
   "source": [
    "# Define the predictor columns and target column\n",
    "predictors = [\"Close\",\"Volume\",\"Open\",\"High\",\"Low\"]\n",
    "\n",
    "#Response and explanatory variables\n",
    "X = df[predictors]\n",
    "y = df.Target"
   ]
  },
  {
   "cell_type": "code",
   "execution_count": 11,
   "metadata": {},
   "outputs": [],
   "source": [
    "#Prepare data for classification process\n",
    "X_train, X_test, y_train, y_test = train_test_split(X,y,test_size=0.2, random_state=20)\n",
    "\n",
    "# Initialize the MinMaxScaler\n",
    "scaler = MinMaxScaler().fit(X_train)\n",
    "# Fit and transform the training data\n",
    "X_train = scaler.transform(X_train)\n",
    "# Transform the test data using the scaler fitted on training data\n",
    "X_test= scaler.transform(X_test)"
   ]
  },
  {
   "cell_type": "code",
   "execution_count": 13,
   "metadata": {},
   "outputs": [],
   "source": [
    "# Collect all kinds of scores \n",
    "Scores = []\n",
    "CV_Scores = []\n",
    "Accuracy = []\n",
    "Precision = []\n",
    "Recall = []\n",
    "F1_score = []\n",
    "models = [ 'Random Forest', 'SVM','DecisionTree','XG Boost Classifier', 'MLPClassifier', 'VotingClassifier']"
   ]
  },
  {
   "cell_type": "markdown",
   "metadata": {},
   "source": [
    "### 1. RandomForest Classifier\n",
    "\n",
    "In this model, a higher number of trees will reduce the variance of the model. n_estimators means the number of trees in the forest, and the default 100 n_estimators does perform well in our model. I try to vary n_estimators based on one of my references on suggestions. When the number of trees is high, it is also better for the model to learn the data, due to the imbalanced nature of the dataset, I set the weight to be balanced. Since higher max_depth may raise the risk of overfitting the training data, I set it to be 16 as some literature suggested."
   ]
  },
  {
   "cell_type": "code",
   "execution_count": 113,
   "metadata": {},
   "outputs": [],
   "source": [
    "# now initalize the model\n",
    "# use n_estimators: the number of decision trees we want to train, the higher the number the better the accuracy\n",
    "# min_samples_split :help us protect against over-fitting\n",
    "# set random_state:if we run the same model twice, the random numbers generated will be in a predictble sequence\n",
    "#model_1 = RandomForestClassifier(n_estimators=100,  random_state=42)\n",
    "#model_1 = RandomForestClassifier(n_estimators=200,class_weight='balanced',  random_state=42)\n",
    "#model_1 = RandomForestClassifier(n_estimators=64,class_weight='balanced',  random_state=42)\n",
    "#model_1 = RandomForestClassifier(n_estimators=100,class_weight='balanced', max_depth=32,  random_state=42)\n",
    "model_1= RandomForestClassifier(n_estimators = 100,min_samples_split=100,class_weight='balanced',max_depth=32,random_state =42)"
   ]
  },
  {
   "cell_type": "code",
   "execution_count": 114,
   "metadata": {},
   "outputs": [
    {
     "name": "stdout",
     "output_type": "stream",
     "text": [
      "              precision    recall  f1-score   support\n",
      "\n",
      "           0       0.72      0.72      0.72      3150\n",
      "           1       0.76      0.75      0.76      3620\n",
      "\n",
      "    accuracy                           0.74      6770\n",
      "   macro avg       0.74      0.74      0.74      6770\n",
      "weighted avg       0.74      0.74      0.74      6770\n",
      "\n",
      "[[2281  869]\n",
      " [ 887 2733]]\n",
      "Precision: 0.7587451415880067\n",
      "F1 score: 0.7568540570479091\n",
      "Accuracy: 0.7406203840472674\n"
     ]
    }
   ],
   "source": [
    "# let's train the model using the predictor column inorder to predict the target\n",
    "# use mode.fit method\n",
    "\n",
    "model_1.fit(X_train, y_train)\n",
    "model_1.score(X_train, y_train)\n",
    "\n",
    "#Print metrics\n",
    "y_train_pred = model_1.predict(X_train)\n",
    "\n",
    "print(classification_report(y_train, y_train_pred))\n",
    "print(confusion_matrix(y_train, y_train_pred))\n",
    "\n",
    "p = precision_score(y_train, y_train_pred)\n",
    "f = f1_score(y_train, y_train_pred)\n",
    "a = metrics.accuracy_score(y_train, y_train_pred)\n",
    "\n",
    "print(\"Precision:\", p)\n",
    "print(\"F1 score:\", f) \n",
    "print(\"Accuracy:\", a)"
   ]
  },
  {
   "cell_type": "markdown",
   "metadata": {},
   "source": [
    "#### Let's measure how accurate the model is \n",
    "\n",
    "This is really important piece of machine learning; we need to measure if our model is doing what we think or not. All the precision score is , when we said the market would go up(i.e the target is 1) did it actually go up so what percentage of the time when we said the market would go up, did actually go up. This is really good error metric for this particular case because am going to assume in this case we want to buy stock and when we buy stock, we want to hold that stock and sell it. And we want to make sure when we buy stock, the sock price is going to increase. Based on our goal we can adjust what error metrics is using to measure performance. In this project I will use precision, accuracy and F1 score."
   ]
  },
  {
   "cell_type": "markdown",
   "metadata": {},
   "source": [
    "#### Model Prediction and Evalution"
   ]
  },
  {
   "cell_type": "code",
   "execution_count": 115,
   "metadata": {},
   "outputs": [
    {
     "name": "stdout",
     "output_type": "stream",
     "text": [
      "              precision    recall  f1-score   support\n",
      "\n",
      "           0       0.46      0.34      0.39       791\n",
      "           1       0.53      0.65      0.58       902\n",
      "\n",
      "    accuracy                           0.50      1693\n",
      "   macro avg       0.49      0.49      0.48      1693\n",
      "weighted avg       0.49      0.50      0.49      1693\n",
      "\n"
     ]
    }
   ],
   "source": [
    "# generate prediction using the model with predict method\n",
    "y_preds = model.predict(X_test)\n",
    "print(classification_report(y_test, y_preds))"
   ]
  },
  {
   "cell_type": "code",
   "execution_count": 116,
   "metadata": {},
   "outputs": [
    {
     "data": {
      "text/plain": [
       "0.5274527452745275"
      ]
     },
     "execution_count": 116,
     "metadata": {},
     "output_type": "execute_result"
    }
   ],
   "source": [
    "# calculate prediction using the actuall target and the predicted target\n",
    "precision_score(y_test, y_preds)"
   ]
  },
  {
   "cell_type": "markdown",
   "metadata": {},
   "source": [
    "When we said the stock price go up, it only went up by 53% of the time."
   ]
  },
  {
   "cell_type": "markdown",
   "metadata": {},
   "source": [
    " ### 2.  DecisionTreeClassifier\n",
    "- max_depth: the maximum depth of the tree\n",
    "- min_samples_split: the minimum number of samples required to split an internal node"
   ]
  },
  {
   "cell_type": "code",
   "execution_count": 119,
   "metadata": {},
   "outputs": [
    {
     "data": {
      "text/plain": [
       "DecisionTreeClassifier(max_depth=5, min_samples_split=100)"
      ]
     },
     "execution_count": 119,
     "metadata": {},
     "output_type": "execute_result"
    }
   ],
   "source": [
    "# train the model\n",
    "model_2 =DecisionTreeClassifier(max_depth=5, min_samples_split=100)\n",
    "model_2.fit(X_train, y_train)"
   ]
  },
  {
   "cell_type": "code",
   "execution_count": 120,
   "metadata": {},
   "outputs": [
    {
     "name": "stdout",
     "output_type": "stream",
     "text": [
      "              precision    recall  f1-score   support\n",
      "\n",
      "           0       0.54      0.16      0.25      3150\n",
      "           1       0.55      0.88      0.67      3620\n",
      "\n",
      "    accuracy                           0.55      6770\n",
      "   macro avg       0.54      0.52      0.46      6770\n",
      "weighted avg       0.54      0.55      0.48      6770\n",
      "\n",
      "[[ 511 2639]\n",
      " [ 434 3186]]\n",
      "Precision: 0.5469527896995708\n",
      "F1 score: 0.6746426680783484\n",
      "Accuracy: 0.5460856720827179\n"
     ]
    }
   ],
   "source": [
    "model_2.score(X_train, y_train)\n",
    "\n",
    "#Print metrics\n",
    "y_train_pred_1 = model_2.predict(X_train)\n",
    "\n",
    "print(classification_report(y_train, y_train_pred_1))\n",
    "print(confusion_matrix(y_train, y_train_pred_1))\n",
    "\n",
    "p = precision_score(y_train, y_train_pred_1)\n",
    "f = f1_score(y_train, y_train_pred_1)\n",
    "a = metrics.accuracy_score(y_train, y_train_pred_1)\n",
    "\n",
    "print(\"Precision:\", p)\n",
    "print(\"F1 score:\", f) \n",
    "print(\"Accuracy:\", a)"
   ]
  },
  {
   "cell_type": "markdown",
   "metadata": {},
   "source": [
    "Here, using max depth of 5 for model 2, a test accuracy of 55% is achieved. Class 1 got F1 score which is 67% while Class 0 got an F1 score of 25."
   ]
  },
  {
   "cell_type": "markdown",
   "metadata": {},
   "source": [
    "#### Model Prediction and Evalution"
   ]
  },
  {
   "cell_type": "code",
   "execution_count": 121,
   "metadata": {},
   "outputs": [
    {
     "name": "stdout",
     "output_type": "stream",
     "text": [
      "              precision    recall  f1-score   support\n",
      "\n",
      "           0       0.47      0.16      0.23       791\n",
      "           1       0.53      0.85      0.66       902\n",
      "\n",
      "    accuracy                           0.52      1693\n",
      "   macro avg       0.50      0.50      0.44      1693\n",
      "weighted avg       0.51      0.52      0.46      1693\n",
      "\n"
     ]
    }
   ],
   "source": [
    "# generate prediction using the model with predict method\n",
    "y_preds_1 = model_2.predict(X_test)\n",
    "print(classification_report(y_test, y_preds_1))"
   ]
  },
  {
   "cell_type": "code",
   "execution_count": 122,
   "metadata": {},
   "outputs": [
    {
     "data": {
      "text/plain": [
       "0.5338450802512212"
      ]
     },
     "execution_count": 122,
     "metadata": {},
     "output_type": "execute_result"
    }
   ],
   "source": [
    "# calculate prediction using the actuall target and the predicted target\n",
    "precision_score(y_test, y_preds_1)"
   ]
  },
  {
   "cell_type": "markdown",
   "metadata": {},
   "source": [
    "When we said the stock price go up, it only went up by 54% of the time."
   ]
  },
  {
   "cell_type": "markdown",
   "metadata": {},
   "source": [
    "### 3. SVM model\n",
    "Since the SVM 's classification is based on choosing the hyperplane, we knew that a more flexible shape will benefit this algorithm on classification. As expected, the linear kernel performs the worst, and we tried kernel with sigmoid and rbf before poly. since logistics is one type of sigmoid function, it has a very similar performance with logistic regression. Then we also vary the kernel. So we ended with poly function. The parameter of probability comes from our debugging of ensembling models. The reason is that voting classifiers require all classifiers to estimate class probabilities, while it is not in SVC by default. We change the default value to make the ensemble model work properly. The drawback of this process is that SVC class use cross-validation to estimate class probabilities, slowing down training, and it will add a predict_proba() method."
   ]
  },
  {
   "cell_type": "code",
   "execution_count": 117,
   "metadata": {},
   "outputs": [
    {
     "data": {
      "text/plain": [
       "SVC(kernel='poly', probability=True)"
      ]
     },
     "execution_count": 117,
     "metadata": {},
     "output_type": "execute_result"
    }
   ],
   "source": [
    "#Create a svm Classifier\n",
    "#svm = SVC(kernel='sigmoid', probability = True)\n",
    "#svm = SVC(kernel='rbf', probability = True)\n",
    "svm = SVC(kernel='poly', probability = True)\n",
    "svm.fit(X_train,y_train)"
   ]
  },
  {
   "cell_type": "code",
   "execution_count": 118,
   "metadata": {},
   "outputs": [
    {
     "name": "stdout",
     "output_type": "stream",
     "text": [
      "              precision    recall  f1-score   support\n",
      "\n",
      "           0       0.60      0.00      0.00      3150\n",
      "           1       0.53      1.00      0.70      3620\n",
      "\n",
      "    accuracy                           0.53      6770\n",
      "   macro avg       0.57      0.50      0.35      6770\n",
      "weighted avg       0.57      0.53      0.37      6770\n",
      "\n",
      "[[   3 3147]\n",
      " [   2 3618]]\n",
      "Precision: 0.5348115299334811\n",
      "F1 score: 0.6967741935483871\n",
      "Accuracy: 0.5348596750369277\n"
     ]
    }
   ],
   "source": [
    "\n",
    "svm.score(X_train, y_train)\n",
    "\n",
    "#Print metrics\n",
    "y_train_pred_2 = svm.predict(X_train)\n",
    "\n",
    "print(classification_report(y_train, y_train_pred_2))\n",
    "print(confusion_matrix(y_train, y_train_pred_2))\n",
    "\n",
    "p = precision_score(y_train, y_train_pred_2)\n",
    "f = f1_score(y_train, y_train_pred_2)\n",
    "a = metrics.accuracy_score(y_train, y_train_pred_2)\n",
    "\n",
    "print(\"Precision:\", p)\n",
    "print(\"F1 score:\", f) \n",
    "print(\"Accuracy:\", a)"
   ]
  },
  {
   "cell_type": "markdown",
   "metadata": {},
   "source": [
    "Support Vector Machines (SVM) is known for being relatively robust to outliers compared to some other machine learning algorithms.  Here we did get a better result and it fits my expectations."
   ]
  },
  {
   "cell_type": "code",
   "execution_count": 123,
   "metadata": {},
   "outputs": [
    {
     "name": "stdout",
     "output_type": "stream",
     "text": [
      "              precision    recall  f1-score   support\n",
      "\n",
      "           0       0.00      0.00      0.00       791\n",
      "           1       0.53      1.00      0.70       902\n",
      "\n",
      "    accuracy                           0.53      1693\n",
      "   macro avg       0.27      0.50      0.35      1693\n",
      "weighted avg       0.28      0.53      0.37      1693\n",
      "\n"
     ]
    },
    {
     "name": "stderr",
     "output_type": "stream",
     "text": [
      "C:\\Users\\suraf\\anaconda3\\lib\\site-packages\\sklearn\\metrics\\_classification.py:1221: UndefinedMetricWarning: Precision and F-score are ill-defined and being set to 0.0 in labels with no predicted samples. Use `zero_division` parameter to control this behavior.\n",
      "  \n"
     ]
    }
   ],
   "source": [
    "# generate prediction using the model with predict method\n",
    "y_preds_2 = svm.predict(X_test)\n",
    "print(classification_report(y_test, y_preds_2))"
   ]
  },
  {
   "cell_type": "code",
   "execution_count": 124,
   "metadata": {},
   "outputs": [
    {
     "data": {
      "text/plain": [
       "0.5327820437093916"
      ]
     },
     "execution_count": 124,
     "metadata": {},
     "output_type": "execute_result"
    }
   ],
   "source": [
    "# calculate prediction using the actuall target and the predicted target\n",
    "precision_score(y_test, y_preds_2)"
   ]
  },
  {
   "cell_type": "markdown",
   "metadata": {},
   "source": [
    "So far our best model is SVM model compared with both Random Forest and DecisionTree. Let's see how other models perform. "
   ]
  },
  {
   "cell_type": "markdown",
   "metadata": {},
   "source": [
    "### 4.XG BOOST"
   ]
  },
  {
   "cell_type": "markdown",
   "metadata": {},
   "source": [
    "XG-boost combined the advantages from both random forest and gradient boosting, and it generally gave a prediction error lower than boosting or random forest.\n",
    "\n",
    "On selecting XG boost hyperparameters, I mainly vary the early_stopping _rounds value. The default learning rate of 0.1 is working well in this case. Since the data set is imbalanced, we need to use balance weight hyperparameter to ensure the model perform properly."
   ]
  },
  {
   "cell_type": "code",
   "execution_count": 21,
   "metadata": {},
   "outputs": [
    {
     "name": "stdout",
     "output_type": "stream",
     "text": [
      "[19:41:41] WARNING: C:\\buildkite-agent\\builds\\buildkite-windows-cpu-autoscaling-group-i-0fdc6d574b9c0d168-1\\xgboost\\xgboost-ci-windows\\src\\learner.cc:767: \n",
      "Parameters: { \"weighted\" } are not used.\n",
      "\n",
      "[0]\tvalidation_0-logloss:0.69154\n",
      "[1]\tvalidation_0-logloss:0.69286\n",
      "[2]\tvalidation_0-logloss:0.69315\n",
      "[3]\tvalidation_0-logloss:0.69439\n",
      "[4]\tvalidation_0-logloss:0.69432\n",
      "[5]\tvalidation_0-logloss:0.69409\n",
      "[6]\tvalidation_0-logloss:0.69507\n",
      "[7]\tvalidation_0-logloss:0.69695\n"
     ]
    },
    {
     "name": "stderr",
     "output_type": "stream",
     "text": [
      "C:\\Users\\suraf\\anaconda3\\lib\\site-packages\\xgboost\\sklearn.py:835: UserWarning: `early_stopping_rounds` in `fit` method is deprecated for better compatibility with scikit-learn, use `early_stopping_rounds` in constructor or`set_params` instead.\n",
      "  warnings.warn(\n"
     ]
    },
    {
     "name": "stdout",
     "output_type": "stream",
     "text": [
      "[8]\tvalidation_0-logloss:0.69776\n",
      "[9]\tvalidation_0-logloss:0.69800\n",
      "[10]\tvalidation_0-logloss:0.69865\n",
      "[11]\tvalidation_0-logloss:0.69954\n",
      "[12]\tvalidation_0-logloss:0.69911\n",
      "[13]\tvalidation_0-logloss:0.69933\n",
      "[14]\tvalidation_0-logloss:0.69999\n"
     ]
    },
    {
     "data": {
      "text/html": [
       "<style>#sk-container-id-1 {color: black;}#sk-container-id-1 pre{padding: 0;}#sk-container-id-1 div.sk-toggleable {background-color: white;}#sk-container-id-1 label.sk-toggleable__label {cursor: pointer;display: block;width: 100%;margin-bottom: 0;padding: 0.3em;box-sizing: border-box;text-align: center;}#sk-container-id-1 label.sk-toggleable__label-arrow:before {content: \"▸\";float: left;margin-right: 0.25em;color: #696969;}#sk-container-id-1 label.sk-toggleable__label-arrow:hover:before {color: black;}#sk-container-id-1 div.sk-estimator:hover label.sk-toggleable__label-arrow:before {color: black;}#sk-container-id-1 div.sk-toggleable__content {max-height: 0;max-width: 0;overflow: hidden;text-align: left;background-color: #f0f8ff;}#sk-container-id-1 div.sk-toggleable__content pre {margin: 0.2em;color: black;border-radius: 0.25em;background-color: #f0f8ff;}#sk-container-id-1 input.sk-toggleable__control:checked~div.sk-toggleable__content {max-height: 200px;max-width: 100%;overflow: auto;}#sk-container-id-1 input.sk-toggleable__control:checked~label.sk-toggleable__label-arrow:before {content: \"▾\";}#sk-container-id-1 div.sk-estimator input.sk-toggleable__control:checked~label.sk-toggleable__label {background-color: #d4ebff;}#sk-container-id-1 div.sk-label input.sk-toggleable__control:checked~label.sk-toggleable__label {background-color: #d4ebff;}#sk-container-id-1 input.sk-hidden--visually {border: 0;clip: rect(1px 1px 1px 1px);clip: rect(1px, 1px, 1px, 1px);height: 1px;margin: -1px;overflow: hidden;padding: 0;position: absolute;width: 1px;}#sk-container-id-1 div.sk-estimator {font-family: monospace;background-color: #f0f8ff;border: 1px dotted black;border-radius: 0.25em;box-sizing: border-box;margin-bottom: 0.5em;}#sk-container-id-1 div.sk-estimator:hover {background-color: #d4ebff;}#sk-container-id-1 div.sk-parallel-item::after {content: \"\";width: 100%;border-bottom: 1px solid gray;flex-grow: 1;}#sk-container-id-1 div.sk-label:hover label.sk-toggleable__label {background-color: #d4ebff;}#sk-container-id-1 div.sk-serial::before {content: \"\";position: absolute;border-left: 1px solid gray;box-sizing: border-box;top: 0;bottom: 0;left: 50%;z-index: 0;}#sk-container-id-1 div.sk-serial {display: flex;flex-direction: column;align-items: center;background-color: white;padding-right: 0.2em;padding-left: 0.2em;position: relative;}#sk-container-id-1 div.sk-item {position: relative;z-index: 1;}#sk-container-id-1 div.sk-parallel {display: flex;align-items: stretch;justify-content: center;background-color: white;position: relative;}#sk-container-id-1 div.sk-item::before, #sk-container-id-1 div.sk-parallel-item::before {content: \"\";position: absolute;border-left: 1px solid gray;box-sizing: border-box;top: 0;bottom: 0;left: 50%;z-index: -1;}#sk-container-id-1 div.sk-parallel-item {display: flex;flex-direction: column;z-index: 1;position: relative;background-color: white;}#sk-container-id-1 div.sk-parallel-item:first-child::after {align-self: flex-end;width: 50%;}#sk-container-id-1 div.sk-parallel-item:last-child::after {align-self: flex-start;width: 50%;}#sk-container-id-1 div.sk-parallel-item:only-child::after {width: 0;}#sk-container-id-1 div.sk-dashed-wrapped {border: 1px dashed gray;margin: 0 0.4em 0.5em 0.4em;box-sizing: border-box;padding-bottom: 0.4em;background-color: white;}#sk-container-id-1 div.sk-label label {font-family: monospace;font-weight: bold;display: inline-block;line-height: 1.2em;}#sk-container-id-1 div.sk-label-container {text-align: center;}#sk-container-id-1 div.sk-container {/* jupyter's `normalize.less` sets `[hidden] { display: none; }` but bootstrap.min.css set `[hidden] { display: none !important; }` so we also need the `!important` here to be able to override the default hidden behavior on the sphinx rendered scikit-learn.org. See: https://github.com/scikit-learn/scikit-learn/issues/21755 */display: inline-block !important;position: relative;}#sk-container-id-1 div.sk-text-repr-fallback {display: none;}</style><div id=\"sk-container-id-1\" class=\"sk-top-container\"><div class=\"sk-text-repr-fallback\"><pre>XGBClassifier(base_score=None, booster=None, callbacks=None,\n",
       "              colsample_bylevel=None, colsample_bynode=None,\n",
       "              colsample_bytree=None, early_stopping_rounds=None,\n",
       "              enable_categorical=False, eval_metric=None, feature_types=None,\n",
       "              gamma=None, gpu_id=None, grow_policy=None, importance_type=None,\n",
       "              interaction_constraints=None, learning_rate=None, max_bin=None,\n",
       "              max_cat_threshold=None, max_cat_to_onehot=None,\n",
       "              max_delta_step=None, max_depth=None, max_leaves=None,\n",
       "              min_child_weight=None, missing=nan, monotone_constraints=None,\n",
       "              n_estimators=100, n_jobs=None, num_parallel_tree=None,\n",
       "              predictor=None, random_state=42, ...)</pre><b>In a Jupyter environment, please rerun this cell to show the HTML representation or trust the notebook. <br />On GitHub, the HTML representation is unable to render, please try loading this page with nbviewer.org.</b></div><div class=\"sk-container\" hidden><div class=\"sk-item\"><div class=\"sk-estimator sk-toggleable\"><input class=\"sk-toggleable__control sk-hidden--visually\" id=\"sk-estimator-id-1\" type=\"checkbox\" checked><label for=\"sk-estimator-id-1\" class=\"sk-toggleable__label sk-toggleable__label-arrow\">XGBClassifier</label><div class=\"sk-toggleable__content\"><pre>XGBClassifier(base_score=None, booster=None, callbacks=None,\n",
       "              colsample_bylevel=None, colsample_bynode=None,\n",
       "              colsample_bytree=None, early_stopping_rounds=None,\n",
       "              enable_categorical=False, eval_metric=None, feature_types=None,\n",
       "              gamma=None, gpu_id=None, grow_policy=None, importance_type=None,\n",
       "              interaction_constraints=None, learning_rate=None, max_bin=None,\n",
       "              max_cat_threshold=None, max_cat_to_onehot=None,\n",
       "              max_delta_step=None, max_depth=None, max_leaves=None,\n",
       "              min_child_weight=None, missing=nan, monotone_constraints=None,\n",
       "              n_estimators=100, n_jobs=None, num_parallel_tree=None,\n",
       "              predictor=None, random_state=42, ...)</pre></div></div></div></div></div>"
      ],
      "text/plain": [
       "XGBClassifier(base_score=None, booster=None, callbacks=None,\n",
       "              colsample_bylevel=None, colsample_bynode=None,\n",
       "              colsample_bytree=None, early_stopping_rounds=None,\n",
       "              enable_categorical=False, eval_metric=None, feature_types=None,\n",
       "              gamma=None, gpu_id=None, grow_policy=None, importance_type=None,\n",
       "              interaction_constraints=None, learning_rate=None, max_bin=None,\n",
       "              max_cat_threshold=None, max_cat_to_onehot=None,\n",
       "              max_delta_step=None, max_depth=None, max_leaves=None,\n",
       "              min_child_weight=None, missing=nan, monotone_constraints=None,\n",
       "              n_estimators=100, n_jobs=None, num_parallel_tree=None,\n",
       "              predictor=None, random_state=42, ...)"
      ]
     },
     "execution_count": 21,
     "metadata": {},
     "output_type": "execute_result"
    }
   ],
   "source": [
    "# define the model\n",
    "xgb_clf = xgb.XGBClassifier(weighted='balanced',random_state=42)\n",
    "\n",
    "#Vary the stopping value for checking difference of parameters.\n",
    "#xgb_clf.fit(X_train,y_train,early_stopping_rounds=5,eval_set=[(X_test, y_test)])\n",
    "#xgb_clf.fit(X_train,y_train,early_stopping_rounds=10,eval_set=[(X_test, y_test)])\n",
    "#xgb_clf.fit(X_train,y_train,early_stopping_rounds=20,eval_set=[(X_test, y_test)])\n",
    "\n",
    "xgb_clf.fit(X_train, y_train, early_stopping_rounds=15, eval_set=[(X_test, y_test)])\n"
   ]
  },
  {
   "cell_type": "code",
   "execution_count": 22,
   "metadata": {},
   "outputs": [
    {
     "name": "stdout",
     "output_type": "stream",
     "text": [
      "              precision    recall  f1-score   support\n",
      "\n",
      "           0       0.62      0.10      0.18      3150\n",
      "           1       0.55      0.94      0.69      3620\n",
      "\n",
      "    accuracy                           0.55      6770\n",
      "   macro avg       0.58      0.52      0.44      6770\n",
      "weighted avg       0.58      0.55      0.45      6770\n",
      "\n",
      "[[ 330 2820]\n",
      " [ 201 3419]]\n",
      "Precision: 0.5480044878987017\n",
      "F1 score: 0.693579470534537\n",
      "Accuracy: 0.5537666174298376\n"
     ]
    }
   ],
   "source": [
    "xgb_clf.score(X_train, y_train)\n",
    "\n",
    "#Print metrics\n",
    "y_train_pred_3 = xgb_clf.predict(X_train)\n",
    "\n",
    "print(classification_report(y_train, y_train_pred_3))\n",
    "print(confusion_matrix(y_train, y_train_pred_3))\n",
    "\n",
    "p = precision_score(y_train, y_train_pred_3)\n",
    "f = f1_score(y_train, y_train_pred_3)\n",
    "a = metrics.accuracy_score(y_train, y_train_pred_3)\n",
    "\n",
    "print(\"Precision:\", p)\n",
    "print(\"F1 score:\", f) \n",
    "print(\"Accuracy:\", a)"
   ]
  },
  {
   "cell_type": "code",
   "execution_count": 27,
   "metadata": {},
   "outputs": [
    {
     "name": "stdout",
     "output_type": "stream",
     "text": [
      "              precision    recall  f1-score   support\n",
      "\n",
      "           0       0.53      0.09      0.16       791\n",
      "           1       0.54      0.93      0.68       902\n",
      "\n",
      "    accuracy                           0.54      1693\n",
      "   macro avg       0.53      0.51      0.42      1693\n",
      "weighted avg       0.53      0.54      0.44      1693\n",
      "\n"
     ]
    }
   ],
   "source": [
    "# generate prediction using the model with predict method\n",
    "y_preds_4 = xgb_clf.predict(X_test)\n",
    "print(classification_report(y_test, y_preds_4))"
   ]
  },
  {
   "cell_type": "markdown",
   "metadata": {},
   "source": [
    "As we result showed, it actually performs a bit better than random forest,SVM and DecisionTree on almost every metric with less time spending."
   ]
  },
  {
   "cell_type": "markdown",
   "metadata": {},
   "source": [
    "- Feature importance with XGBoost. One of the many benefits of using XGBoost is that it can automatically provide estimates of feature importance from a trained\n",
    "predictive model."
   ]
  },
  {
   "cell_type": "code",
   "execution_count": 26,
   "metadata": {},
   "outputs": [
    {
     "data": {
      "image/png": "[encoded data removed]",
      "text/plain": [
       "<Figure size 432x288 with 1 Axes>"
      ]
     },
     "metadata": {
      "needs_background": "light"
     },
     "output_type": "display_data"
    }
   ],
   "source": [
    "import matplotlib.pyplot as plt\n",
    "# calculates the importance of each feature in the training data\n",
    "xgb.plot_importance(xgb_clf)\n",
    "plt.show()\n"
   ]
  },
  {
   "cell_type": "markdown",
   "metadata": {},
   "source": [
    "### Please fix the code below "
   ]
  },
  {
   "cell_type": "code",
   "execution_count": 130,
   "metadata": {},
   "outputs": [
    {
     "name": "stdout",
     "output_type": "stream",
     "text": [
      "Collecting xgboost\n",
      "  Obtaining dependency information for xgboost from https://files.pythonhosted.org/packages/75/dd/9afe0d9d0f61a5384c3932626a022e38c396a5d88e6f5345ad2f7b576747/xgboost-1.7.6-py3-none-win_amd64.whl.metadata\n",
      "  Using cached xgboost-1.7.6-py3-none-win_amd64.whl.metadata (1.9 kB)\n",
      "Requirement already satisfied: numpy in c:\\users\\suraf\\anaconda3\\lib\\site-packages (from xgboost) (1.23.3)\n",
      "Requirement already satisfied: scipy in c:\\users\\suraf\\anaconda3\\lib\\site-packages (from xgboost) (1.10.1)\n",
      "Using cached xgboost-1.7.6-py3-none-win_amd64.whl (70.9 MB)\n",
      "Installing collected packages: xgboost\n",
      "Successfully installed xgboost-1.7.6\n",
      "Note: you may need to restart the kernel to use updated packages.\n"
     ]
    },
    {
     "name": "stderr",
     "output_type": "stream",
     "text": [
      "WARNING: Ignoring invalid distribution -atplotlib (c:\\users\\suraf\\anaconda3\\lib\\site-packages)\n",
      "WARNING: Ignoring invalid distribution -atplotlib (c:\\users\\suraf\\anaconda3\\lib\\site-packages)\n",
      "DEPRECATION: pyodbc 4.0.0-unsupported has a non-standard version number. pip 23.3 will enforce this behaviour change. A possible replacement is to upgrade to a newer version of pyodbc or contact the author to suggest that they release a version with a conforming version number. Discussion can be found at https://github.com/pypa/pip/issues/12063\n"
     ]
    }
   ],
   "source": [
    "pip install xgboost"
   ]
  },
  {
   "cell_type": "markdown",
   "metadata": {},
   "source": [
    "### 5.KNN"
   ]
  },
  {
   "cell_type": "markdown",
   "metadata": {},
   "source": [
    "Since KNN requires the selection of K, as we know, a small value of k means that noise will have a higher influence on the result and a large value make it computationally expensive. We choose k=3 as a start point and gradually choose other K values until reached around the square root of sample size n as our models. Since this algorithm is not computing expensive, we can directly use grid search to find the best parameter."
   ]
  },
  {
   "cell_type": "code",
   "execution_count": null,
   "metadata": {},
   "outputs": [],
   "source": [
    "# grid search\n",
    "from sklearn.neural_network import MLPClassifier\n",
    "from sklearn.model_selection import GridSearchCV\n",
    "\n",
    "#defining grid\n",
    "#train sample size is 14300, whose sqrt is 119\n",
    "n_neighbor = [3,5,19,29,103,119]\n",
    "\n",
    "#Try to use SMOTE to resample \n",
    "X1, y1  = SMOTE().fit_resample(X, y)\n",
    "X_train1, X_test1, y_train1, y_test1 = train_test_split(X1, y1, test_size=0.8, random_state=22)\n",
    "\n",
    "# create and fit  model, testing each parameters\n",
    "from sklearn.neighbors import KNeighborsClassifier\n",
    "knn_grid = GridSearchCV(estimator=KNeighborsClassifier(), param_grid=dict(n_neighbors=n_neighbor))\n",
    "knn_grid.fit(X_train1, y_train1)\n",
    "print(knn_grid)\n",
    "# summarize the results of the grid search\n",
    "print('Best Score: ',knn_grid.best_score_)\n",
    "print('Best parameters: ',knn_grid.best_params_)"
   ]
  },
  {
   "cell_type": "markdown",
   "metadata": {},
   "source": [
    "Based on testing, the accuracy of the model decreases since a large K value may reduce overfit. On the other hand, it raised the risk of overfitting. Although the best k selected by grid search is when k=3, we still determine to use k=11. Because this gave a relatively balanced result, which has a value close to k=3 with a less than 3% difference. What's more, it reduced the risk of making the model too sensitive."
   ]
  },
  {
   "cell_type": "code",
   "execution_count": null,
   "metadata": {},
   "outputs": [],
   "source": [
    "#KNN \n",
    "from sklearn.model_selection import train_test_split\n",
    "#apply smote\n",
    "from imblearn.over_sampling import SMOTE\n",
    "\n",
    "# Here we will use MinMaxscaler to scale these numerical values.\n",
    "from sklearn.preprocessing import MinMaxScaler\n",
    "#MinMax subtracts the minimum value in the feature and then divides by the range\n",
    "scaler = MinMaxScaler()\n",
    "X_train1 = scaler.fit_transform(X_train1)\n",
    "X_test1 = scaler.transform(X_test1)\n",
    "\n",
    "#set k=3\n",
    "# try knn = KNeighborsClassifier(n_neighbors=5)\n",
    "# try knn = KNeighborsClassifier(n_neighbors=113)\n",
    "knn = KNeighborsClassifier(n_neighbors=3)\n",
    "knn.fit(X_train1, y_train1)\n",
    "cv_score = cross_val_score(estimator = knn, X = X_train1, y = y_train1, cv = 5,verbose = 1)\n",
    "y_pred = knn.predict(X_test1)\n",
    "print('')\n",
    "print('###### KNN ######')\n",
    "print('Score : %.4f' % knn.score(X_test1, y_test1))\n",
    "print('cv_score : %.4f' % cv_score.mean())\n",
    "print('Accuracy:', 100* accuracy_score(y_test1,y_pred))\n",
    "print('Precision:', 100* precision_score(y_test1,y_pred,average='weighted')) # for imbalanced data\n",
    "print('Recall:', 100* recall_score(y_test1,y_pred,average='weighted'))\n",
    "print('F1-score:', 100* f1_score(y_test1,y_pred,average='weighted'))\n",
    "Accuracy.append(100* accuracy_score(y_test1,y_pred))\n",
    "Precision.append(100* precision_score(y_test1,y_pred,average='weighted'))\n",
    "Recall.append(100* recall_score(y_test1,y_pred,average='weighted'))\n",
    "F1_score.append(100* f1_score(y_test1,y_pred,average='weighted'))\n",
    "CV_Scores.append(cv_score.mean())\n",
    "Scores.append(knn.score(X_test1, y_test1))"
   ]
  },
  {
   "cell_type": "code",
   "execution_count": null,
   "metadata": {},
   "outputs": [],
   "source": [
    "from sklearn.linear_model import LogisticRegression\n",
    "\n",
    "#apply smote\n",
    "from imblearn.over_sampling import SMOTE\n",
    "\n",
    "#Start with default setting for logistic regression\n",
    "#model = LogisticRegression(solver='sag', max_iter=1000)\n",
    "model = LogisticRegression(solver='saga', max_iter=1000)\n",
    "#train the algorithm\n",
    "model.fit(X_train, y_train)\n",
    "#5 fold validation\n",
    "cv_score = cross_val_score(estimator = model, X = X_train, y = y_train, cv = 5,verbose = 1)\n",
    "y_pred = model.predict(X_test)\n",
    "print('')\n",
    "print('###### Logistic Regression ######')\n",
    "print('Score : %.4f' % model.score(X_test, y_test))\n",
    "print('cv_score : %.4f' % cv_score.mean())\n",
    "print('Accuracy:', 100* accuracy_score(y_test,y_pred))\n",
    "print('Precision:', 100* precision_score(y_test,y_pred,average='weighted')) # for imbalanced data\n",
    "print('Recall:', 100* recall_score(y_test,y_pred,average='weighted'))\n",
    "print('F1-score:', 100* f1_score(y_test,y_pred,average='weighted'))\n",
    "Accuracy.append(100* accuracy_score(y_test,y_pred))\n",
    "Precision.append(100* precision_score(y_test,y_pred,average='weighted'))\n",
    "Recall.append(100* recall_score(y_test,y_pred,average='weighted'))\n",
    "F1_score.append(100* f1_score(y_test,y_pred,average='weighted'))\n",
    "CV_Scores.append(cv_score.mean())\n",
    "Scores.append(model.score(X_test, y_test))"
   ]
  },
  {
   "cell_type": "markdown",
   "metadata": {},
   "source": [
    "### MLP"
   ]
  },
  {
   "cell_type": "markdown",
   "metadata": {},
   "source": [
    "The last algorithm we used before the ensemble model is the multilayer perceptron model(MLP). And this one is based on sklearn package and as our representative of the feedforward neural network. Due to the time complexity of the neural network, we manually tested the hyperparameters instead of the grid search."
   ]
  },
  {
   "cell_type": "code",
   "execution_count": null,
   "metadata": {},
   "outputs": [],
   "source": [
    "from sklearn.neural_network import MLPClassifier\n",
    "\n",
    "# Classification using Multi-layer perceptron\n",
    "#we also checked other activation function(logisitic, tanh) and they did not give the same performance as relu did. \n",
    "ann = MLPClassifier(hidden_layer_sizes=(150,100,50), max_iter=1000, activation='relu', solver ='adam', random_state=1)\n",
    "ann = ann.fit(X_train, y_train)\n",
    "y_pred = ann.predict(X_test)\n",
    "cv_score = cross_val_score(estimator = ann, X = X_train, y = y_train, cv = 5,verbose = 1)\n",
    "print('')\n",
    "print('###### MLP ######')\n",
    "print('Score : %.4f' % ann.score(X_test, y_test))\n",
    "print('cv_score : %.4f' % cv_score.mean())\n",
    "print('Accuracy:', 100* accuracy_score(y_test,y_pred))\n",
    "print('Precision:', 100* precision_score(y_test,y_pred,average='weighted')) # for imbalanced data\n",
    "print('Recall:', 100* recall_score(y_test,y_pred,average='weighted'))\n",
    "print('F1-score:', 100* f1_score(y_test,y_pred,average='weighted'))\n",
    "Accuracy.append(100* accuracy_score(y_test,y_pred))\n",
    "Precision.append(100* precision_score(y_test,y_pred,average='weighted'))\n",
    "Recall.append(100* recall_score(y_test,y_pred,average='weighted'))\n",
    "F1_score.append(100* f1_score(y_test,y_pred,average='weighted'))\n",
    "CV_Scores.append(cv_score.mean())\n",
    "Scores.append(ann.score(X_test, y_test))"
   ]
  },
  {
   "cell_type": "markdown",
   "metadata": {},
   "source": [
    "### Ensemble Model\n",
    "\n",
    "We place our four models in an array called ‘estimators’. Then, create the voting classifier.\n",
    "\n",
    "It takes two inputs. The first is our estimator array of our four models. A voting ensemble involves summing the predictions made by classification models or averaging the predictions made by regression models. It is also the cause to let us change parameters on the SVM model.\n",
    "\n",
    "nitially, we set the voting parameter to hard, which tells our classifier to make predictions. After we did some research, we realized that ‘soft’ voting often achieves higher performance than hard voting because it gives more weight to highly confident votes. The major difference is that 'soft' voting ensemble involves summing the predicted probability for the label. In simple words, hard is predicting major labels, soft is predicting the largest probability.\n",
    "\n",
    "After we applied soft voting for our model, the model does perform slightly better.\n",
    "\n",
    "Now we can fit our ensemble model to our training data and store it on our testing data."
   ]
  },
  {
   "cell_type": "code",
   "execution_count": null,
   "metadata": {},
   "outputs": [],
   "source": [
    "from sklearn.ensemble import VotingClassifier\n",
    "#create a dictionary of our models\n",
    "estimators=[('Regression Model', model), ('SVM', svm), ('KNN', knn), ('Decision Tree', rnd_clf)]\n",
    "#create our voting classifier, inputting our models\n",
    "ensemble = VotingClassifier(estimators, voting='soft')\n",
    "#fit model to training data\n",
    "ensemble.fit(X_train, y_train)"
   ]
  },
  {
   "cell_type": "code",
   "execution_count": null,
   "metadata": {},
   "outputs": [],
   "source": [
    "#test our model on the test data\n",
    "ensemble.score(X_test, y_test)"
   ]
  },
  {
   "cell_type": "code",
   "execution_count": null,
   "metadata": {},
   "outputs": [],
   "source": [
    "y_pred = ensemble.predict(X_test)\n",
    "cv_score = cross_val_score(estimator = ensemble, X = X_train, y = y_train, cv = 5,verbose = 1)\n",
    "print('')\n",
    "print('###### Voting ######')\n",
    "print('Score : %.4f' % ensemble.score(X_test, y_test))\n",
    "print('cv_score : %.4f' % cv_score.mean())\n",
    "print('Accuracy:', 100* accuracy_score(y_test,y_pred))\n",
    "print('Precision:', 100* precision_score(y_test,y_pred,average='weighted')) # for imbalanced data\n",
    "print('Recall:', 100* recall_score(y_test,y_pred,average='weighted'))\n",
    "print('F1-score:', 100* f1_score(y_test,y_pred,average='weighted'))\n",
    "Accuracy.append(100* accuracy_score(y_test,y_pred))\n",
    "Precision.append(100* precision_score(y_test,y_pred,average='weighted'))\n",
    "Recall.append(100* recall_score(y_test,y_pred,average='weighted'))\n",
    "F1_score.append(100* f1_score(y_test,y_pred,average='weighted'))\n",
    "CV_Scores.append(cv_score.mean())\n",
    "Scores.append(ensemble.score(X_test, y_test))"
   ]
  },
  {
   "cell_type": "markdown",
   "metadata": {},
   "source": [
    "### Model Selection"
   ]
  },
  {
   "cell_type": "code",
   "execution_count": null,
   "metadata": {},
   "outputs": [],
   "source": [
    "compare = pd.DataFrame({'Algorithms' : models , 'Scores' : Scores, 'Cross_Val' : CV_Scores, 'Accuracy(%)':Accuracy, 'Precision(%)':Precision, 'Recall(%)':Recall, 'F1-score(%)':F1_score})\n",
    "compare.sort_values(by='Scores' ,ascending=False)"
   ]
  },
  {
   "cell_type": "markdown",
   "metadata": {},
   "source": [
    "#### Building a back testing system\n",
    "The next step is build a more robost way to test the algorism.It help us to accuratly measure the error over long period of time.Currently, I was only able to test aginst the last 100 day's but if we really build a stock price model and we want to use it in a real world, we want to  able to test across multiple year's of data and we want to know how the algorism handle a lot of different situation that gives us more confident to work in the future.Based on  the backtest, I will use the first 10 year's of data and then predict values for the eleventh year. Then we will take the first eleveth year of data and predict values for the twelveth year of data so on. In this way we will actually get predictions for a lot of different years and be able to have more confidence in our model.After the backtest, I will actually start evaluating the errors of my prediction."
   ]
  },
  {
   "cell_type": "code",
   "execution_count": 87,
   "metadata": {},
   "outputs": [],
   "source": [
    "# create a prediction function\n",
    "\n",
    "def predict(train,test,predictors,model):\n",
    "    model.fit(train[predictors],train[\"Target\"])\n",
    "    preds=model.predict(test[predictors])\n",
    "    preds=pd.Series(preds,index=test.index,name=\"predictions\")\n",
    "    combined=pd.concat([test[\"Target\"],preds],axis=1)\n",
    "    return combined"
   ]
  },
  {
   "cell_type": "markdown",
   "metadata": {},
   "source": [
    "#### Backtest to check how good our model is:"
   ]
  },
  {
   "cell_type": "code",
   "execution_count": 88,
   "metadata": {},
   "outputs": [],
   "source": [
    "# create backtest function\n",
    "# train the model with 10 year's of data\n",
    "# we will be training a model for about a year then going to the next year\n",
    "# each dataframe is a prediction for a single year\n",
    "# loop the data year by year\n",
    "\n",
    "def backtest(data,model,predictors,start=2500,step=250):\n",
    "    all_predictions =[]\n",
    "    \n",
    "    for i in range(start,data.shape[0],step):\n",
    "        train=data.iloc[0:i].copy()\n",
    "        test=data.iloc[i:(i+step)].copy()\n",
    "        predictions=predict(train,test,predictors,model)\n",
    "        all_predictions.append(predictions)\n",
    "    return pd.concat(all_predictions) # concat all the predictions together"
   ]
  },
  {
   "cell_type": "code",
   "execution_count": 90,
   "metadata": {
    "scrolled": true
   },
   "outputs": [],
   "source": [
    "# start the backtest\n",
    "predictions=backtest(df,model,predictors)  "
   ]
  },
  {
   "cell_type": "code",
   "execution_count": 91,
   "metadata": {},
   "outputs": [
    {
     "name": "stdout",
     "output_type": "stream",
     "text": [
      "predictions\n",
      "0    3433\n",
      "1    2530\n",
      "Name: count, dtype: int64\n"
     ]
    }
   ],
   "source": [
    "# see how many day's we predicted the market go up vs down\n",
    "# use value_count: count how many times each type of predictions was made\n",
    "\n",
    "prediction_counts = predictions[\"predictions\"].value_counts()\n",
    "\n",
    "# Print the counts\n",
    "print(prediction_counts)"
   ]
  },
  {
   "cell_type": "markdown",
   "metadata": {},
   "source": [
    "We can see, we predicted the market go down about 3433 days and go up about 2530 days."
   ]
  },
  {
   "cell_type": "code",
   "execution_count": 51,
   "metadata": {},
   "outputs": [
    {
     "data": {
      "text/plain": [
       "0.5296442687747036"
      ]
     },
     "execution_count": 51,
     "metadata": {},
     "output_type": "execute_result"
    }
   ],
   "source": [
    "# now let's check the precision score\n",
    "precision_score(predictions[\"Target\"],predictions[\"predictions\"])"
   ]
  },
  {
   "cell_type": "markdown",
   "metadata": {},
   "source": [
    "Across all of those rows, about six thousend traiding days,we were about 53% precise. When we say the market would go up, it went up 53% of the time."
   ]
  },
  {
   "cell_type": "code",
   "execution_count": 93,
   "metadata": {},
   "outputs": [
    {
     "data": {
      "text/plain": [
       "Target\n",
       "1    0.533959\n",
       "0    0.466041\n",
       "Name: count, dtype: float64"
      ]
     },
     "execution_count": 93,
     "metadata": {},
     "output_type": "execute_result"
    }
   ],
   "source": [
    "# check the percentage of days where the market actually went up\n",
    "# use value count of the target divided by the number of rows total\n",
    "predictions[\"Target\"].value_counts()/predictions.shape[0]"
   ]
  },
  {
   "cell_type": "markdown",
   "metadata": {},
   "source": [
    "So, the S&P500 in the days we were looking at actually went up 53.6% of days and went down 46.6% of days."
   ]
  },
  {
   "cell_type": "markdown",
   "metadata": {},
   "source": [
    "#### Adding additional predictors to the model\n",
    "- Add more features to the model and see if that improves the accuracy. So, I am going to give different horizons to the algorism and look at the rolling means.And calculate the mean close price in the last 2 days, the last trading week,the last 60 days ,the last year and the last four years and we will find the ratio between todays closing price and the closing price in those periods.Even more days in the rolling period alone may benefit the learners significantly."
   ]
  },
  {
   "cell_type": "code",
   "execution_count": 96,
   "metadata": {},
   "outputs": [],
   "source": [
    "# create varity of rolling averages\n",
    "\n",
    "horizons = [2,5,60,250,1000]\n",
    "new_predictors =[]\n",
    "\n",
    "for horizon in horizons: # loop through horizons\n",
    "    rolling_averages = df.rolling(horizon).mean()\n",
    "    \n",
    "    ratio_column = f\"Close_Ratio_{horizon}\"\n",
    "    df[ratio_column]=df[\"Close\"]/rolling_averages[\"Close\"]\n",
    "    \n",
    "    trend_column = f\"Trend_{horizon}\"\n",
    "    df[trend_column]=df.shift(1).rolling(horizon).sum()[\"Target\"]\n",
    "    \n",
    "    new_predictors +=[ratio_column,trend_column]"
   ]
  },
  {
   "cell_type": "code",
   "execution_count": 100,
   "metadata": {},
   "outputs": [
    {
     "data": {
      "text/html": [
       "<div>\n",
       "<style scoped>\n",
       "    .dataframe tbody tr th:only-of-type {\n",
       "        vertical-align: middle;\n",
       "    }\n",
       "\n",
       "    .dataframe tbody tr th {\n",
       "        vertical-align: top;\n",
       "    }\n",
       "\n",
       "    .dataframe thead th {\n",
       "        text-align: right;\n",
       "    }\n",
       "</style>\n",
       "<table border=\"1\" class=\"dataframe\">\n",
       "  <thead>\n",
       "    <tr style=\"text-align: right;\">\n",
       "      <th></th>\n",
       "      <th>Open</th>\n",
       "      <th>High</th>\n",
       "      <th>Low</th>\n",
       "      <th>Close</th>\n",
       "      <th>Volume</th>\n",
       "      <th>Tomorrow</th>\n",
       "      <th>Target</th>\n",
       "      <th>Close_Ratio_2</th>\n",
       "      <th>Trend_2</th>\n",
       "      <th>Close_Ratio_5</th>\n",
       "      <th>Trend_5</th>\n",
       "      <th>Close_Ratio_60</th>\n",
       "      <th>Trend_60</th>\n",
       "      <th>Close_Ratio_250</th>\n",
       "      <th>Trend_250</th>\n",
       "      <th>Close_Ratio_1000</th>\n",
       "      <th>Trend_1000</th>\n",
       "    </tr>\n",
       "    <tr>\n",
       "      <th>Date</th>\n",
       "      <th></th>\n",
       "      <th></th>\n",
       "      <th></th>\n",
       "      <th></th>\n",
       "      <th></th>\n",
       "      <th></th>\n",
       "      <th></th>\n",
       "      <th></th>\n",
       "      <th></th>\n",
       "      <th></th>\n",
       "      <th></th>\n",
       "      <th></th>\n",
       "      <th></th>\n",
       "      <th></th>\n",
       "      <th></th>\n",
       "      <th></th>\n",
       "      <th></th>\n",
       "    </tr>\n",
       "  </thead>\n",
       "  <tbody>\n",
       "    <tr>\n",
       "      <th>1993-12-14 00:00:00-05:00</th>\n",
       "      <td>465.730011</td>\n",
       "      <td>466.119995</td>\n",
       "      <td>462.459991</td>\n",
       "      <td>463.059998</td>\n",
       "      <td>275050000</td>\n",
       "      <td>461.839996</td>\n",
       "      <td>0</td>\n",
       "      <td>0.997157</td>\n",
       "      <td>1.0</td>\n",
       "      <td>0.996617</td>\n",
       "      <td>1.0</td>\n",
       "      <td>1.000283</td>\n",
       "      <td>32.0</td>\n",
       "      <td>1.028047</td>\n",
       "      <td>127.0</td>\n",
       "      <td>1.176082</td>\n",
       "      <td>512.0</td>\n",
       "    </tr>\n",
       "    <tr>\n",
       "      <th>1993-12-15 00:00:00-05:00</th>\n",
       "      <td>463.059998</td>\n",
       "      <td>463.690002</td>\n",
       "      <td>461.839996</td>\n",
       "      <td>461.839996</td>\n",
       "      <td>331770000</td>\n",
       "      <td>463.339996</td>\n",
       "      <td>1</td>\n",
       "      <td>0.998681</td>\n",
       "      <td>0.0</td>\n",
       "      <td>0.995899</td>\n",
       "      <td>1.0</td>\n",
       "      <td>0.997329</td>\n",
       "      <td>32.0</td>\n",
       "      <td>1.025151</td>\n",
       "      <td>126.0</td>\n",
       "      <td>1.172676</td>\n",
       "      <td>512.0</td>\n",
       "    </tr>\n",
       "    <tr>\n",
       "      <th>1993-12-16 00:00:00-05:00</th>\n",
       "      <td>461.859985</td>\n",
       "      <td>463.980011</td>\n",
       "      <td>461.859985</td>\n",
       "      <td>463.339996</td>\n",
       "      <td>284620000</td>\n",
       "      <td>466.380005</td>\n",
       "      <td>1</td>\n",
       "      <td>1.001621</td>\n",
       "      <td>1.0</td>\n",
       "      <td>0.999495</td>\n",
       "      <td>2.0</td>\n",
       "      <td>1.000311</td>\n",
       "      <td>32.0</td>\n",
       "      <td>1.028274</td>\n",
       "      <td>127.0</td>\n",
       "      <td>1.176163</td>\n",
       "      <td>513.0</td>\n",
       "    </tr>\n",
       "    <tr>\n",
       "      <th>1993-12-17 00:00:00-05:00</th>\n",
       "      <td>463.339996</td>\n",
       "      <td>466.380005</td>\n",
       "      <td>463.339996</td>\n",
       "      <td>466.380005</td>\n",
       "      <td>363750000</td>\n",
       "      <td>465.850006</td>\n",
       "      <td>0</td>\n",
       "      <td>1.003270</td>\n",
       "      <td>2.0</td>\n",
       "      <td>1.004991</td>\n",
       "      <td>3.0</td>\n",
       "      <td>1.006561</td>\n",
       "      <td>32.0</td>\n",
       "      <td>1.034781</td>\n",
       "      <td>128.0</td>\n",
       "      <td>1.183537</td>\n",
       "      <td>514.0</td>\n",
       "    </tr>\n",
       "    <tr>\n",
       "      <th>1993-12-20 00:00:00-05:00</th>\n",
       "      <td>466.380005</td>\n",
       "      <td>466.899994</td>\n",
       "      <td>465.529999</td>\n",
       "      <td>465.850006</td>\n",
       "      <td>255900000</td>\n",
       "      <td>465.299988</td>\n",
       "      <td>0</td>\n",
       "      <td>0.999431</td>\n",
       "      <td>1.0</td>\n",
       "      <td>1.003784</td>\n",
       "      <td>2.0</td>\n",
       "      <td>1.005120</td>\n",
       "      <td>32.0</td>\n",
       "      <td>1.033359</td>\n",
       "      <td>128.0</td>\n",
       "      <td>1.181856</td>\n",
       "      <td>513.0</td>\n",
       "    </tr>\n",
       "  </tbody>\n",
       "</table>\n",
       "</div>"
      ],
      "text/plain": [
       "                                 Open        High         Low       Close  \\\n",
       "Date                                                                        \n",
       "1993-12-14 00:00:00-05:00  465.730011  466.119995  462.459991  463.059998   \n",
       "1993-12-15 00:00:00-05:00  463.059998  463.690002  461.839996  461.839996   \n",
       "1993-12-16 00:00:00-05:00  461.859985  463.980011  461.859985  463.339996   \n",
       "1993-12-17 00:00:00-05:00  463.339996  466.380005  463.339996  466.380005   \n",
       "1993-12-20 00:00:00-05:00  466.380005  466.899994  465.529999  465.850006   \n",
       "\n",
       "                              Volume    Tomorrow  Target  Close_Ratio_2  \\\n",
       "Date                                                                      \n",
       "1993-12-14 00:00:00-05:00  275050000  461.839996       0       0.997157   \n",
       "1993-12-15 00:00:00-05:00  331770000  463.339996       1       0.998681   \n",
       "1993-12-16 00:00:00-05:00  284620000  466.380005       1       1.001621   \n",
       "1993-12-17 00:00:00-05:00  363750000  465.850006       0       1.003270   \n",
       "1993-12-20 00:00:00-05:00  255900000  465.299988       0       0.999431   \n",
       "\n",
       "                           Trend_2  Close_Ratio_5  Trend_5  Close_Ratio_60  \\\n",
       "Date                                                                         \n",
       "1993-12-14 00:00:00-05:00      1.0       0.996617      1.0        1.000283   \n",
       "1993-12-15 00:00:00-05:00      0.0       0.995899      1.0        0.997329   \n",
       "1993-12-16 00:00:00-05:00      1.0       0.999495      2.0        1.000311   \n",
       "1993-12-17 00:00:00-05:00      2.0       1.004991      3.0        1.006561   \n",
       "1993-12-20 00:00:00-05:00      1.0       1.003784      2.0        1.005120   \n",
       "\n",
       "                           Trend_60  Close_Ratio_250  Trend_250  \\\n",
       "Date                                                              \n",
       "1993-12-14 00:00:00-05:00      32.0         1.028047      127.0   \n",
       "1993-12-15 00:00:00-05:00      32.0         1.025151      126.0   \n",
       "1993-12-16 00:00:00-05:00      32.0         1.028274      127.0   \n",
       "1993-12-17 00:00:00-05:00      32.0         1.034781      128.0   \n",
       "1993-12-20 00:00:00-05:00      32.0         1.033359      128.0   \n",
       "\n",
       "                           Close_Ratio_1000  Trend_1000  \n",
       "Date                                                     \n",
       "1993-12-14 00:00:00-05:00          1.176082       512.0  \n",
       "1993-12-15 00:00:00-05:00          1.172676       512.0  \n",
       "1993-12-16 00:00:00-05:00          1.176163       513.0  \n",
       "1993-12-17 00:00:00-05:00          1.183537       514.0  \n",
       "1993-12-20 00:00:00-05:00          1.181856       513.0  "
      ]
     },
     "execution_count": 100,
     "metadata": {},
     "output_type": "execute_result"
    }
   ],
   "source": [
    "df.head(5)"
   ]
  },
  {
   "cell_type": "markdown",
   "metadata": {},
   "source": [
    "The dataframe has NaN values because when pandas can not find enough days or rows prior to the current row, it actually compute the rolling average and return NaN."
   ]
  },
  {
   "cell_type": "code",
   "execution_count": 99,
   "metadata": {
    "scrolled": true
   },
   "outputs": [
    {
     "data": {
      "text/html": [
       "<div>\n",
       "<style scoped>\n",
       "    .dataframe tbody tr th:only-of-type {\n",
       "        vertical-align: middle;\n",
       "    }\n",
       "\n",
       "    .dataframe tbody tr th {\n",
       "        vertical-align: top;\n",
       "    }\n",
       "\n",
       "    .dataframe thead th {\n",
       "        text-align: right;\n",
       "    }\n",
       "</style>\n",
       "<table border=\"1\" class=\"dataframe\">\n",
       "  <thead>\n",
       "    <tr style=\"text-align: right;\">\n",
       "      <th></th>\n",
       "      <th>Open</th>\n",
       "      <th>High</th>\n",
       "      <th>Low</th>\n",
       "      <th>Close</th>\n",
       "      <th>Volume</th>\n",
       "      <th>Tomorrow</th>\n",
       "      <th>Target</th>\n",
       "      <th>Close_Ratio_2</th>\n",
       "      <th>Trend_2</th>\n",
       "      <th>Close_Ratio_5</th>\n",
       "      <th>Trend_5</th>\n",
       "      <th>Close_Ratio_60</th>\n",
       "      <th>Trend_60</th>\n",
       "      <th>Close_Ratio_250</th>\n",
       "      <th>Trend_250</th>\n",
       "      <th>Close_Ratio_1000</th>\n",
       "      <th>Trend_1000</th>\n",
       "    </tr>\n",
       "    <tr>\n",
       "      <th>Date</th>\n",
       "      <th></th>\n",
       "      <th></th>\n",
       "      <th></th>\n",
       "      <th></th>\n",
       "      <th></th>\n",
       "      <th></th>\n",
       "      <th></th>\n",
       "      <th></th>\n",
       "      <th></th>\n",
       "      <th></th>\n",
       "      <th></th>\n",
       "      <th></th>\n",
       "      <th></th>\n",
       "      <th></th>\n",
       "      <th></th>\n",
       "      <th></th>\n",
       "      <th></th>\n",
       "    </tr>\n",
       "  </thead>\n",
       "  <tbody>\n",
       "    <tr>\n",
       "      <th>1993-12-14 00:00:00-05:00</th>\n",
       "      <td>465.730011</td>\n",
       "      <td>466.119995</td>\n",
       "      <td>462.459991</td>\n",
       "      <td>463.059998</td>\n",
       "      <td>275050000</td>\n",
       "      <td>461.839996</td>\n",
       "      <td>0</td>\n",
       "      <td>0.997157</td>\n",
       "      <td>1.0</td>\n",
       "      <td>0.996617</td>\n",
       "      <td>1.0</td>\n",
       "      <td>1.000283</td>\n",
       "      <td>32.0</td>\n",
       "      <td>1.028047</td>\n",
       "      <td>127.0</td>\n",
       "      <td>1.176082</td>\n",
       "      <td>512.0</td>\n",
       "    </tr>\n",
       "    <tr>\n",
       "      <th>1993-12-15 00:00:00-05:00</th>\n",
       "      <td>463.059998</td>\n",
       "      <td>463.690002</td>\n",
       "      <td>461.839996</td>\n",
       "      <td>461.839996</td>\n",
       "      <td>331770000</td>\n",
       "      <td>463.339996</td>\n",
       "      <td>1</td>\n",
       "      <td>0.998681</td>\n",
       "      <td>0.0</td>\n",
       "      <td>0.995899</td>\n",
       "      <td>1.0</td>\n",
       "      <td>0.997329</td>\n",
       "      <td>32.0</td>\n",
       "      <td>1.025151</td>\n",
       "      <td>126.0</td>\n",
       "      <td>1.172676</td>\n",
       "      <td>512.0</td>\n",
       "    </tr>\n",
       "    <tr>\n",
       "      <th>1993-12-16 00:00:00-05:00</th>\n",
       "      <td>461.859985</td>\n",
       "      <td>463.980011</td>\n",
       "      <td>461.859985</td>\n",
       "      <td>463.339996</td>\n",
       "      <td>284620000</td>\n",
       "      <td>466.380005</td>\n",
       "      <td>1</td>\n",
       "      <td>1.001621</td>\n",
       "      <td>1.0</td>\n",
       "      <td>0.999495</td>\n",
       "      <td>2.0</td>\n",
       "      <td>1.000311</td>\n",
       "      <td>32.0</td>\n",
       "      <td>1.028274</td>\n",
       "      <td>127.0</td>\n",
       "      <td>1.176163</td>\n",
       "      <td>513.0</td>\n",
       "    </tr>\n",
       "    <tr>\n",
       "      <th>1993-12-17 00:00:00-05:00</th>\n",
       "      <td>463.339996</td>\n",
       "      <td>466.380005</td>\n",
       "      <td>463.339996</td>\n",
       "      <td>466.380005</td>\n",
       "      <td>363750000</td>\n",
       "      <td>465.850006</td>\n",
       "      <td>0</td>\n",
       "      <td>1.003270</td>\n",
       "      <td>2.0</td>\n",
       "      <td>1.004991</td>\n",
       "      <td>3.0</td>\n",
       "      <td>1.006561</td>\n",
       "      <td>32.0</td>\n",
       "      <td>1.034781</td>\n",
       "      <td>128.0</td>\n",
       "      <td>1.183537</td>\n",
       "      <td>514.0</td>\n",
       "    </tr>\n",
       "    <tr>\n",
       "      <th>1993-12-20 00:00:00-05:00</th>\n",
       "      <td>466.380005</td>\n",
       "      <td>466.899994</td>\n",
       "      <td>465.529999</td>\n",
       "      <td>465.850006</td>\n",
       "      <td>255900000</td>\n",
       "      <td>465.299988</td>\n",
       "      <td>0</td>\n",
       "      <td>0.999431</td>\n",
       "      <td>1.0</td>\n",
       "      <td>1.003784</td>\n",
       "      <td>2.0</td>\n",
       "      <td>1.005120</td>\n",
       "      <td>32.0</td>\n",
       "      <td>1.033359</td>\n",
       "      <td>128.0</td>\n",
       "      <td>1.181856</td>\n",
       "      <td>513.0</td>\n",
       "    </tr>\n",
       "  </tbody>\n",
       "</table>\n",
       "</div>"
      ],
      "text/plain": [
       "                                 Open        High         Low       Close  \\\n",
       "Date                                                                        \n",
       "1993-12-14 00:00:00-05:00  465.730011  466.119995  462.459991  463.059998   \n",
       "1993-12-15 00:00:00-05:00  463.059998  463.690002  461.839996  461.839996   \n",
       "1993-12-16 00:00:00-05:00  461.859985  463.980011  461.859985  463.339996   \n",
       "1993-12-17 00:00:00-05:00  463.339996  466.380005  463.339996  466.380005   \n",
       "1993-12-20 00:00:00-05:00  466.380005  466.899994  465.529999  465.850006   \n",
       "\n",
       "                              Volume    Tomorrow  Target  Close_Ratio_2  \\\n",
       "Date                                                                      \n",
       "1993-12-14 00:00:00-05:00  275050000  461.839996       0       0.997157   \n",
       "1993-12-15 00:00:00-05:00  331770000  463.339996       1       0.998681   \n",
       "1993-12-16 00:00:00-05:00  284620000  466.380005       1       1.001621   \n",
       "1993-12-17 00:00:00-05:00  363750000  465.850006       0       1.003270   \n",
       "1993-12-20 00:00:00-05:00  255900000  465.299988       0       0.999431   \n",
       "\n",
       "                           Trend_2  Close_Ratio_5  Trend_5  Close_Ratio_60  \\\n",
       "Date                                                                         \n",
       "1993-12-14 00:00:00-05:00      1.0       0.996617      1.0        1.000283   \n",
       "1993-12-15 00:00:00-05:00      0.0       0.995899      1.0        0.997329   \n",
       "1993-12-16 00:00:00-05:00      1.0       0.999495      2.0        1.000311   \n",
       "1993-12-17 00:00:00-05:00      2.0       1.004991      3.0        1.006561   \n",
       "1993-12-20 00:00:00-05:00      1.0       1.003784      2.0        1.005120   \n",
       "\n",
       "                           Trend_60  Close_Ratio_250  Trend_250  \\\n",
       "Date                                                              \n",
       "1993-12-14 00:00:00-05:00      32.0         1.028047      127.0   \n",
       "1993-12-15 00:00:00-05:00      32.0         1.025151      126.0   \n",
       "1993-12-16 00:00:00-05:00      32.0         1.028274      127.0   \n",
       "1993-12-17 00:00:00-05:00      32.0         1.034781      128.0   \n",
       "1993-12-20 00:00:00-05:00      32.0         1.033359      128.0   \n",
       "\n",
       "                           Close_Ratio_1000  Trend_1000  \n",
       "Date                                                     \n",
       "1993-12-14 00:00:00-05:00          1.176082       512.0  \n",
       "1993-12-15 00:00:00-05:00          1.172676       512.0  \n",
       "1993-12-16 00:00:00-05:00          1.176163       513.0  \n",
       "1993-12-17 00:00:00-05:00          1.183537       514.0  \n",
       "1993-12-20 00:00:00-05:00          1.181856       513.0  "
      ]
     },
     "execution_count": 99,
     "metadata": {},
     "output_type": "execute_result"
    }
   ],
   "source": [
    "# remove the missing values in the dataframe\n",
    "df= df.dropna()\n",
    "df.head(5)"
   ]
  },
  {
   "cell_type": "markdown",
   "metadata": {},
   "source": [
    "#### Improving the model"
   ]
  },
  {
   "cell_type": "code",
   "execution_count": 101,
   "metadata": {},
   "outputs": [],
   "source": [
    "# update the model slightly and change some of the parameters\n",
    "model=RandomForestClassifier(n_estimators=200,min_samples_split=50,random_state=1)"
   ]
  },
  {
   "cell_type": "code",
   "execution_count": 102,
   "metadata": {},
   "outputs": [],
   "source": [
    "# rewrite the predict function slightly\n",
    "def predict(train,test,predictors,model):\n",
    "    model.fit(train[predictors],train[\"Target\"])\n",
    "    preds=model.predict_proba(test[predictors]) [:,1]\n",
    "    preds[preds >=.6] = 1 # this will reduce the number of trading days\n",
    "    preds[preds < .6]= 0\n",
    "    preds=pd.Series(preds,index=test.index,name=\"predictions\")\n",
    "    combined=pd.concat([test[\"Target\"],preds],axis=1)\n",
    "    return combined"
   ]
  },
  {
   "cell_type": "code",
   "execution_count": 103,
   "metadata": {},
   "outputs": [],
   "source": [
    "# run the backtest again\n",
    "predictions=backtest(df,model,new_predictors)"
   ]
  },
  {
   "cell_type": "code",
   "execution_count": 104,
   "metadata": {},
   "outputs": [
    {
     "data": {
      "text/plain": [
       "predictions\n",
       "0.0    4144\n",
       "1.0     818\n",
       "Name: count, dtype: int64"
      ]
     },
     "execution_count": 104,
     "metadata": {},
     "output_type": "execute_result"
    }
   ],
   "source": [
    "# check the value count again\n",
    "predictions[\"predictions\"].value_counts()"
   ]
  },
  {
   "cell_type": "markdown",
   "metadata": {},
   "source": [
    "There were about four thousend days where it pridicted the price went down. The distribution is very different now, we can see that only a few days we predict that the price would go up that is because I change the trashhold, I ask the model to be more confident in its prediction before it actually predicted and the price go up.Which means we are actully be trading or buying stock in fewer days."
   ]
  },
  {
   "cell_type": "code",
   "execution_count": 105,
   "metadata": {},
   "outputs": [
    {
     "data": {
      "text/plain": [
       "0.5684596577017115"
      ]
     },
     "execution_count": 105,
     "metadata": {},
     "output_type": "execute_result"
    }
   ],
   "source": [
    "precision_score(predictions[\"Target\"],predictions[\"predictions\"])"
   ]
  },
  {
   "cell_type": "markdown",
   "metadata": {},
   "source": [
    "## Summary and next steps with the model\n",
    "We can see that, when we buy a stock the model pridict the price go up and,57% of the time it will actually go up.It is actually pretty good specially given I just looking at timeserious data and just looking at historical prices of the index.\n",
    "I would like to point out that neural networks were not considered for this project due to the computational demands of the algorithms. In particular, I felt that recurrent neural networks such as Long-Short Term Memory (LSTM) neural networks were the most appropriate for this project as these models were designed specifically for time-series data. Also, due to time constraints other methods of feature engineering were not explored, classic stock market indicators such as Bollinger Bands and Sharpe Ratios . To improve this model I would recommend to include exchanges that are open overnight.The S&P500 only trade during US market hours.There are other indices around the world open before the US market is open so, it might be worth looking those prices and see if we can actually correlate them, if index in the other side of the world increasing does that help predict the S&P500 better.This concludes the first stage of this project but the above mentioned room for improvements will be explored in the second stage of this project.\n",
    "\n",
    "However, it's essential to keep in mind that predicting financial markets, including stock prices like the S&P 500, is an extremely challenging and complex task. Financial markets are influenced by a wide range of factors, including economic indicators, geopolitical events, investor sentiments, and other unpredictable factors. As a result, predicting stock prices with high accuracy consistently remains a challenging problem."
   ]
  },
  {
   "cell_type": "markdown",
   "metadata": {},
   "source": [
    "## Create powerpoint presentation using Python"
   ]
  },
  {
   "cell_type": "code",
   "execution_count": 64,
   "metadata": {},
   "outputs": [],
   "source": [
    "path = \"sample.pptx\"\n",
    "#Intitalizing PPt object \n",
    "prs = Presentation() \n",
    "\n",
    "# creating slide 1 \n",
    "zero_slide = prs.slide_layouts[6]\n",
    "slide0 = prs.slides.add_slide(zero_slide)\n",
    " \n",
    "txBox = slide0.shapes.add_textbox( pptx.util.Inches(3.5), pptx.util.Inches(1),\n",
    "                               width=pptx.util.Inches(4), height=pptx.util.Inches(1))\n",
    "tf = txBox.text_frame\n",
    "tf.clear()\n",
    "p = tf.paragraphs[0]\n",
    "run = p.add_run()\n",
    "run.text = 'SP500 Data Analysis'\n",
    "font = run.font\n",
    "font.name = 'Calibri'\n",
    "font.size = Pt(24)\n",
    "font.bold = True\n",
    "font.italic = None \n",
    "p.alignment = PP_ALIGN.CENTER\n",
    "\n",
    "\n",
    "# creating slide 2 \n",
    "blank_slide_layout = prs.slide_layouts[6] \n",
    "slide = prs.slides.add_slide(blank_slide_layout)\n",
    "left = top = Inches(1)\n",
    "pic = slide.shapes.add_picture('j+.png', pptx.util.Inches(0.25), pptx.util.Inches(1),\n",
    "                               width=pptx.util.Inches(9), height=pptx.util.Inches(5))\n",
    "\n",
    "# creating slide 3\n",
    "second_slide = prs.slide_layouts[6]\n",
    "slide2 = prs.slides.add_slide(second_slide)\n",
    " \n",
    "pic = slide2.shapes.add_picture('x6.png', pptx.util.Inches(1.5), pptx.util.Inches(1),\n",
    "                               width=pptx.util.Inches(7), height=pptx.util.Inches(2))\n",
    "\n",
    "pic = slide2.shapes.add_picture('y2.png', pptx.util.Inches(0.5), pptx.util.Inches(3.5),\n",
    "                               width=pptx.util.Inches(9), height=pptx.util.Inches(3))\n",
    "\n",
    "# creating slide 3\n",
    "third_slide = prs.slide_layouts[6]\n",
    "slide3 = prs.slides.add_slide(third_slide)\n",
    "\n",
    "pic = slide3.shapes.add_picture('j+.png', pptx.util.Inches(0.5), pptx.util.Inches(1),\n",
    "                               width=pptx.util.Inches(9), height=pptx.util.Inches(6))\n",
    "\n",
    "# creating slide 4\n",
    "forth_slide = prs.slide_layouts[6]\n",
    "slide4 = prs.slides.add_slide(forth_slide)\n",
    "\n",
    "pic = slide4.shapes.add_picture('i1.png', pptx.util.Inches(0.5), pptx.util.Inches(1),\n",
    "                               width=pptx.util.Inches(9), height=pptx.util.Inches(5))\n",
    "\n",
    "# creating slide 5\n",
    "fifth_slide = prs.slide_layouts[6]\n",
    "slide5 = prs.slides.add_slide(fifth_slide)\n",
    "\n",
    "pic = slide5.shapes.add_picture('i9.png', pptx.util.Inches(1), pptx.util.Inches(0.5),\n",
    "                               width=pptx.util.Inches(4), height=pptx.util.Inches(2))\n",
    "# creating slide 6\n",
    "sixth_slide = prs.slide_layouts[6]\n",
    "slide6 = prs.slides.add_slide(sixth_slide)\n",
    "pic = slide6.shapes.add_picture('e8.png', pptx.util.Inches(0.5), pptx.util.Inches(3),\n",
    "                               width=pptx.util.Inches(9), height=pptx.util.Inches(4))\n",
    "\n",
    "#saving the created slide \n",
    "prs.save('S&P500 stock.pptx')"
   ]
  },
  {
   "cell_type": "markdown",
   "metadata": {},
   "source": [
    "## Reference \n",
    "https://www.researchgate.net/figure/High-Frequency-Trading-Domain-source-Aldridge-2013_fig1_358123608\n",
    "https://www.kaggle.com/code/samaxtech/predicting-s-p500-index-linearreg-randomforests  for linear regression and random forest\n",
    "https://medium.com/@akashsangar2653/eda-and-price-prediction-of-s-p-500-stock-prices-dataset-290535b9a40b\n",
    "https://medium.com/shiyan-boxer/s-p-500-stock-price-prediction-using-machine-learning-and-deep-learning-328b1839d1b6\n",
    "https://www.kaggle.com/code/yash16jr/s-p500-data-eda-and-prediction-arima-sarimax\n",
    "https://medium.com/shiyan-boxer/s-p-500-stock-price-prediction-using-machine-learning-and-deep-learning-328b1839d1b6\n",
    "https://www.kaggle.com/datasets/miguelaenlle/massive-stock-news-analysis-db-for-nlpbacktests   for financial data\n",
    "https://ai.plainenglish.io/using-deep-learning-to-predict-stock-prices-a-step-by-step-guide-with-python-and-the-s-p-500-59b06de25357\n",
    "https://medium.com/codex/stocks-news-sentiment-analysis-with-deep-learning-transformers-and-machine-learning-cdcdb827fc06 for sentiment\n"
   ]
  }
 ],
 "metadata": {
  "kernelspec": {
   "display_name": "Python 3",
   "language": "python",
   "name": "python3"
  },
  "language_info": {
   "codemirror_mode": {
    "name": "ipython",
    "version": 3
   },
   "file_extension": ".py",
   "mimetype": "text/x-python",
   "name": "python",
   "nbconvert_exporter": "python",
   "pygments_lexer": "ipython3",
   "version": "3.8.5"
  }
 },
 "nbformat": 4,
 "nbformat_minor": 4
}
